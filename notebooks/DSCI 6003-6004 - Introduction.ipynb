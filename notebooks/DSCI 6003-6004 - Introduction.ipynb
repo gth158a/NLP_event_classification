{
 "cells": [
  {
   "cell_type": "code",
   "execution_count": 126,
   "metadata": {
    "collapsed": false
   },
   "outputs": [],
   "source": [
    "#imports\n",
    "import pandas as pd\n",
    "import numpy as np\n",
    "import matplotlib.pyplot as plt\n",
    "import pickle\n",
    "import itertools\n",
    "import spacy\n",
    "import nltk\n",
    "%matplotlib inline"
   ]
  },
  {
   "cell_type": "code",
   "execution_count": 127,
   "metadata": {
    "collapsed": true
   },
   "outputs": [],
   "source": [
    "from sklearn.model_selection import train_test_split\n",
    "from sklearn.model_selection import KFold\n",
    "from sklearn.model_selection import cross_val_score\n",
    "from sklearn.model_selection import GridSearchCV"
   ]
  },
  {
   "cell_type": "code",
   "execution_count": 128,
   "metadata": {
    "collapsed": true
   },
   "outputs": [],
   "source": [
    "from sklearn.feature_extraction.text import CountVectorizer\n",
    "from sklearn.feature_extraction.text import TfidfVectorizer, TfidfTransformer"
   ]
  },
  {
   "cell_type": "code",
   "execution_count": 129,
   "metadata": {
    "collapsed": true
   },
   "outputs": [],
   "source": [
    "from sklearn.metrics import accuracy_score, confusion_matrix, classification_report"
   ]
  },
  {
   "cell_type": "code",
   "execution_count": 130,
   "metadata": {
    "collapsed": true
   },
   "outputs": [],
   "source": [
    "from sklearn.pipeline import Pipeline\n",
    "from sklearn.linear_model import LogisticRegression\n",
    "from sklearn.tree import DecisionTreeClassifier\n",
    "from sklearn.neighbors import KNeighborsClassifier\n",
    "from sklearn.naive_bayes import MultinomialNB\n",
    "from sklearn.svm import SVC, LinearSVC\n",
    "from sklearn.ensemble import AdaBoostClassifier\n",
    "from sklearn.ensemble import RandomForestClassifier"
   ]
  },
  {
   "cell_type": "code",
   "execution_count": 131,
   "metadata": {
    "collapsed": true
   },
   "outputs": [],
   "source": [
    "# dataframe display options\n",
    "pd.set_option('display.max_colwidth', -1)\n",
    "pd.set_option('display.max_rows', 200)"
   ]
  },
  {
   "cell_type": "markdown",
   "metadata": {
    "slideshow": {
     "slide_type": "slide"
    }
   },
   "source": [
    "# Problem Definition\n",
    "<img src='form2.png'>"
   ]
  },
  {
   "cell_type": "markdown",
   "metadata": {},
   "source": [
    "> The Objective of the project is to use Natural Language Processing on two fields entered by the user (\"event title\" and \"additional info\") to guide the user into selecting the correct category.\n",
    "+ **\"Event type\" (category)** is a key field used by the company to match events and the capabilities of their pool of photographers."
   ]
  },
  {
   "cell_type": "markdown",
   "metadata": {
    "slideshow": {
     "slide_type": "slide"
    }
   },
   "source": [
    "# Problem Definition\n",
    "\n",
    "Classification task: Predicting discrete-valued quantity $y$\n",
    "+ Multi-class $ y \\in \\{1,2,3 \\ldots k\\}$ \n",
    "\n",
    "\n",
    "# Data Acquisition\n",
    "\n",
    "<img src='data.png'>"
   ]
  },
  {
   "cell_type": "markdown",
   "metadata": {},
   "source": [
    "In order to validate the possibility of a project I scraped information on 100 events. Links to the events were provided by the company."
   ]
  },
  {
   "cell_type": "code",
   "execution_count": 699,
   "metadata": {
    "collapsed": true
   },
   "outputs": [],
   "source": [
    "def search_titles(df, expression):\n",
    "    categories = df[df['category'].str.contains(expression, regex=True) == True]['category']\n",
    "    idxs = df[df['category'].str.contains(expression, regex=True) == True].index\n",
    "    print(categories)\n",
    "    return idxs\n",
    "\n",
    "def update_category(df, indices, category_title):\n",
    "    for i in indices:\n",
    "        df.loc[i, 'category'] = category_title"
   ]
  },
  {
   "cell_type": "code",
   "execution_count": 702,
   "metadata": {
    "collapsed": false
   },
   "outputs": [
    {
     "name": "stdout",
     "output_type": "stream",
     "text": [
      "Series([], Name: category, dtype: object)\n"
     ]
    }
   ],
   "source": [
    "b = search_titles(g, r'baptism')"
   ]
  },
  {
   "cell_type": "code",
   "execution_count": 125,
   "metadata": {
    "collapsed": true
   },
   "outputs": [],
   "source": [
    "update_category(g, b, 'life celebration')"
   ]
  },
  {
   "cell_type": "markdown",
   "metadata": {},
   "source": [
    "## After Categories were regrouped"
   ]
  },
  {
   "cell_type": "code",
   "execution_count": 150,
   "metadata": {
    "collapsed": false,
    "slideshow": {
     "slide_type": "slide"
    }
   },
   "outputs": [
    {
     "data": {
      "image/png": "[encoded data removed]",
      "text/plain": [
       "<matplotlib.figure.Figure at 0x121061828>"
      ]
     },
     "metadata": {},
     "output_type": "display_data"
    }
   ],
   "source": [
    "g['category'].value_counts()[:20][::-1].plot(kind='barh');\n",
    "plt.title(\"Top 20 categories\");"
   ]
  },
  {
   "cell_type": "code",
   "execution_count": 728,
   "metadata": {
    "collapsed": false
   },
   "outputs": [],
   "source": [
    "## Pickle data after cleanup\n",
    "with open('events.pickle', 'wb') as f:\n",
    "    pickle.dump(g, f)"
   ]
  },
  {
   "cell_type": "code",
   "execution_count": 201,
   "metadata": {
    "collapsed": true
   },
   "outputs": [],
   "source": [
    "reset -fs"
   ]
  },
  {
   "cell_type": "markdown",
   "metadata": {
    "collapsed": true
   },
   "source": [
    "# Loading events dataframe from pickled object"
   ]
  },
  {
   "cell_type": "code",
   "execution_count": 8,
   "metadata": {
    "collapsed": false
   },
   "outputs": [],
   "source": [
    "with open('events.pickle', 'rb') as f:\n",
    "    g = pickle.load(f) "
   ]
  },
  {
   "cell_type": "code",
   "execution_count": 9,
   "metadata": {
    "collapsed": false
   },
   "outputs": [
    {
     "name": "stdout",
     "output_type": "stream",
     "text": [
      "Number of categories: 9\n"
     ]
    }
   ],
   "source": [
    "categories = g.category.unique()\n",
    "print(\"Number of categories: {}\".format(len(categories)))"
   ]
  },
  {
   "cell_type": "code",
   "execution_count": 10,
   "metadata": {
    "collapsed": false
   },
   "outputs": [
    {
     "data": {
      "image/png": "[encoded data removed]",
      "text/plain": [
       "<matplotlib.figure.Figure at 0x1123a84e0>"
      ]
     },
     "metadata": {},
     "output_type": "display_data"
    }
   ],
   "source": [
    "g['category'].value_counts()[:20][::-1].plot(kind='barh');\n",
    "plt.title(\"Top Categories\");"
   ]
  },
  {
   "cell_type": "code",
   "execution_count": 11,
   "metadata": {
    "collapsed": false
   },
   "outputs": [
    {
     "data": {
      "text/plain": [
       "kids birthday       360\n",
       "company event       187\n",
       "private party       138\n",
       "life celebration    129\n",
       "portrait shoot      77 \n",
       "other               75 \n",
       "conference          49 \n",
       "wedding             42 \n",
       "baby shower         32 \n",
       "Name: category, dtype: int64"
      ]
     },
     "execution_count": 11,
     "metadata": {},
     "output_type": "execute_result"
    }
   ],
   "source": [
    "g['category'].value_counts()[:20]"
   ]
  },
  {
   "cell_type": "code",
   "execution_count": 12,
   "metadata": {
    "collapsed": false
   },
   "outputs": [
    {
     "data": {
      "text/html": [
       "<div>\n",
       "<table border=\"1\" class=\"dataframe\">\n",
       "  <thead>\n",
       "    <tr style=\"text-align: right;\">\n",
       "      <th></th>\n",
       "      <th>album_ptr_id</th>\n",
       "      <th>title</th>\n",
       "      <th>additional_info</th>\n",
       "      <th>category</th>\n",
       "      <th>id</th>\n",
       "    </tr>\n",
       "  </thead>\n",
       "  <tbody>\n",
       "    <tr>\n",
       "      <th>1100</th>\n",
       "      <td>560606.0</td>\n",
       "      <td>california cannabis industry association</td>\n",
       "      <td>staged photographer for a step and repeat section, then scrolling photography after that.</td>\n",
       "      <td>company event</td>\n",
       "      <td>d2651246d360450aa29f3cb58b0ef6a8</td>\n",
       "    </tr>\n",
       "    <tr>\n",
       "      <th>1101</th>\n",
       "      <td>562327.0</td>\n",
       "      <td>arian's 1st birthday</td>\n",
       "      <td>NaN</td>\n",
       "      <td>kids birthday</td>\n",
       "      <td>08a7e7a3a3294f148aeb606777a7f552</td>\n",
       "    </tr>\n",
       "    <tr>\n",
       "      <th>1102</th>\n",
       "      <td>562452.0</td>\n",
       "      <td>nikhil's first birthday</td>\n",
       "      <td>NaN</td>\n",
       "      <td>kids birthday</td>\n",
       "      <td>27d88c2e30f34e32b6a1636ee2d18d17</td>\n",
       "    </tr>\n",
       "    <tr>\n",
       "      <th>1103</th>\n",
       "      <td>562658.0</td>\n",
       "      <td>krish and ishan birthday bash</td>\n",
       "      <td>birthday party of a 2 year old and a 5 year old boys. some family portraits, solo of birthday kids, decorations, photo also with grandparents (focus on them a bit), focus on kids together too, cake cutting &amp; family portraits in front of cake, theme of birthday party is bubbles! professional bubble maker will be there and would love photos of this</td>\n",
       "      <td>kids birthday</td>\n",
       "      <td>aa03bc2d11b443978a5d40dd7eb46253</td>\n",
       "    </tr>\n",
       "    <tr>\n",
       "      <th>1104</th>\n",
       "      <td>567831.0</td>\n",
       "      <td>a to z</td>\n",
       "      <td>this is an informal reception at our apartment complex before we have a wedding. we would like to spend the first 1-2 hours on portraits of just the two of us at nice spots around our apartment complex or any other ideas you have. we would like some nice portraits. then capture a bit of the event.</td>\n",
       "      <td>life celebration</td>\n",
       "      <td>76fb502fff584f0da0e812a449bd44be</td>\n",
       "    </tr>\n",
       "  </tbody>\n",
       "</table>\n",
       "</div>"
      ],
      "text/plain": [
       "      album_ptr_id                                     title  \\\n",
       "1100  560606.0      california cannabis industry association   \n",
       "1101  562327.0      arian's 1st birthday                       \n",
       "1102  562452.0      nikhil's first birthday                    \n",
       "1103  562658.0      krish and ishan birthday bash              \n",
       "1104  567831.0      a to z                                     \n",
       "\n",
       "                                                                                                                                                                                                                                                                                                                                                   additional_info  \\\n",
       "1100  staged photographer for a step and repeat section, then scrolling photography after that.                                                                                                                                                                                                                                                                      \n",
       "1101  NaN                                                                                                                                                                                                                                                                                                                                                            \n",
       "1102  NaN                                                                                                                                                                                                                                                                                                                                                            \n",
       "1103  birthday party of a 2 year old and a 5 year old boys. some family portraits, solo of birthday kids, decorations, photo also with grandparents (focus on them a bit), focus on kids together too, cake cutting & family portraits in front of cake, theme of birthday party is bubbles! professional bubble maker will be there and would love photos of this   \n",
       "1104  this is an informal reception at our apartment complex before we have a wedding. we would like to spend the first 1-2 hours on portraits of just the two of us at nice spots around our apartment complex or any other ideas you have. we would like some nice portraits. then capture a bit of the event.                                                     \n",
       "\n",
       "              category                                id  \n",
       "1100  company event     d2651246d360450aa29f3cb58b0ef6a8  \n",
       "1101  kids birthday     08a7e7a3a3294f148aeb606777a7f552  \n",
       "1102  kids birthday     27d88c2e30f34e32b6a1636ee2d18d17  \n",
       "1103  kids birthday     aa03bc2d11b443978a5d40dd7eb46253  \n",
       "1104  life celebration  76fb502fff584f0da0e812a449bd44be  "
      ]
     },
     "execution_count": 12,
     "metadata": {},
     "output_type": "execute_result"
    }
   ],
   "source": [
    "g.tail()"
   ]
  },
  {
   "cell_type": "markdown",
   "metadata": {},
   "source": [
    "# EDA"
   ]
  },
  {
   "cell_type": "code",
   "execution_count": 13,
   "metadata": {
    "collapsed": false
   },
   "outputs": [],
   "source": [
    "length = g[['title', 'additional_info', 'category']].copy()"
   ]
  },
  {
   "cell_type": "code",
   "execution_count": 14,
   "metadata": {
    "collapsed": false
   },
   "outputs": [
    {
     "data": {
      "text/plain": [
       "'mustache movember eversnap party'"
      ]
     },
     "execution_count": 14,
     "metadata": {},
     "output_type": "execute_result"
    }
   ],
   "source": [
    "length['title'][0]"
   ]
  },
  {
   "cell_type": "markdown",
   "metadata": {},
   "source": [
    "### How many characters are in \"title\" and \"additional_info\"?"
   ]
  },
  {
   "cell_type": "code",
   "execution_count": 53,
   "metadata": {
    "collapsed": false
   },
   "outputs": [
    {
     "data": {
      "text/html": [
       "<div>\n",
       "<table border=\"1\" class=\"dataframe\">\n",
       "  <thead>\n",
       "    <tr style=\"text-align: right;\">\n",
       "      <th></th>\n",
       "      <th>title</th>\n",
       "      <th>additional_info</th>\n",
       "      <th>category</th>\n",
       "      <th>title_length</th>\n",
       "    </tr>\n",
       "  </thead>\n",
       "  <tbody>\n",
       "    <tr>\n",
       "      <th>0</th>\n",
       "      <td>mustache movember eversnap party</td>\n",
       "      <td>step and repeat banner shots plus party photos</td>\n",
       "      <td>private party</td>\n",
       "      <td>32</td>\n",
       "    </tr>\n",
       "    <tr>\n",
       "      <th>1</th>\n",
       "      <td>shilpi's baby shower</td>\n",
       "      <td>NaN</td>\n",
       "      <td>other</td>\n",
       "      <td>20</td>\n",
       "    </tr>\n",
       "    <tr>\n",
       "      <th>2</th>\n",
       "      <td>caleb's cat in the hat\" 1st birthday at superf...</td>\n",
       "      <td>NaN</td>\n",
       "      <td>kids birthday</td>\n",
       "      <td>53</td>\n",
       "    </tr>\n",
       "    <tr>\n",
       "      <th>3</th>\n",
       "      <td>michele's bridal shower</td>\n",
       "      <td>this is the club house at sorrento, dublin ran...</td>\n",
       "      <td>life celebration</td>\n",
       "      <td>23</td>\n",
       "    </tr>\n",
       "    <tr>\n",
       "      <th>4</th>\n",
       "      <td>vihaan 1st birthday party</td>\n",
       "      <td>we would also like the photographer to take ca...</td>\n",
       "      <td>kids birthday</td>\n",
       "      <td>25</td>\n",
       "    </tr>\n",
       "  </tbody>\n",
       "</table>\n",
       "</div>"
      ],
      "text/plain": [
       "                                               title  \\\n",
       "0                   mustache movember eversnap party   \n",
       "1                               shilpi's baby shower   \n",
       "2  caleb's cat in the hat\" 1st birthday at superf...   \n",
       "3                            michele's bridal shower   \n",
       "4                          vihaan 1st birthday party   \n",
       "\n",
       "                                     additional_info          category  \\\n",
       "0     step and repeat banner shots plus party photos     private party   \n",
       "1                                                NaN             other   \n",
       "2                                                NaN     kids birthday   \n",
       "3  this is the club house at sorrento, dublin ran...  life celebration   \n",
       "4  we would also like the photographer to take ca...     kids birthday   \n",
       "\n",
       "   title_length  \n",
       "0            32  \n",
       "1            20  \n",
       "2            53  \n",
       "3            23  \n",
       "4            25  "
      ]
     },
     "execution_count": 53,
     "metadata": {},
     "output_type": "execute_result"
    }
   ],
   "source": [
    "length['title_length'] = length['title'].map(lambda text: len(str(text)))\n",
    "length.head()"
   ]
  },
  {
   "cell_type": "code",
   "execution_count": 54,
   "metadata": {
    "collapsed": false
   },
   "outputs": [
    {
     "data": {
      "text/html": [
       "<div>\n",
       "<table border=\"1\" class=\"dataframe\">\n",
       "  <thead>\n",
       "    <tr style=\"text-align: right;\">\n",
       "      <th></th>\n",
       "      <th>title</th>\n",
       "      <th>additional_info</th>\n",
       "      <th>category</th>\n",
       "      <th>title_length</th>\n",
       "      <th>additional_info_length</th>\n",
       "    </tr>\n",
       "  </thead>\n",
       "  <tbody>\n",
       "    <tr>\n",
       "      <th>0</th>\n",
       "      <td>mustache movember eversnap party</td>\n",
       "      <td>step and repeat banner shots plus party photos</td>\n",
       "      <td>private party</td>\n",
       "      <td>32</td>\n",
       "      <td>46</td>\n",
       "    </tr>\n",
       "    <tr>\n",
       "      <th>1</th>\n",
       "      <td>shilpi's baby shower</td>\n",
       "      <td>NaN</td>\n",
       "      <td>other</td>\n",
       "      <td>20</td>\n",
       "      <td>3</td>\n",
       "    </tr>\n",
       "    <tr>\n",
       "      <th>2</th>\n",
       "      <td>caleb's cat in the hat\" 1st birthday at superf...</td>\n",
       "      <td>NaN</td>\n",
       "      <td>kids birthday</td>\n",
       "      <td>53</td>\n",
       "      <td>3</td>\n",
       "    </tr>\n",
       "    <tr>\n",
       "      <th>3</th>\n",
       "      <td>michele's bridal shower</td>\n",
       "      <td>this is the club house at sorrento, dublin ran...</td>\n",
       "      <td>life celebration</td>\n",
       "      <td>23</td>\n",
       "      <td>81</td>\n",
       "    </tr>\n",
       "    <tr>\n",
       "      <th>4</th>\n",
       "      <td>vihaan 1st birthday party</td>\n",
       "      <td>we would also like the photographer to take ca...</td>\n",
       "      <td>kids birthday</td>\n",
       "      <td>25</td>\n",
       "      <td>130</td>\n",
       "    </tr>\n",
       "  </tbody>\n",
       "</table>\n",
       "</div>"
      ],
      "text/plain": [
       "                                               title  \\\n",
       "0                   mustache movember eversnap party   \n",
       "1                               shilpi's baby shower   \n",
       "2  caleb's cat in the hat\" 1st birthday at superf...   \n",
       "3                            michele's bridal shower   \n",
       "4                          vihaan 1st birthday party   \n",
       "\n",
       "                                     additional_info          category  \\\n",
       "0     step and repeat banner shots plus party photos     private party   \n",
       "1                                                NaN             other   \n",
       "2                                                NaN     kids birthday   \n",
       "3  this is the club house at sorrento, dublin ran...  life celebration   \n",
       "4  we would also like the photographer to take ca...     kids birthday   \n",
       "\n",
       "   title_length  additional_info_length  \n",
       "0            32                      46  \n",
       "1            20                       3  \n",
       "2            53                       3  \n",
       "3            23                      81  \n",
       "4            25                     130  "
      ]
     },
     "execution_count": 54,
     "metadata": {},
     "output_type": "execute_result"
    }
   ],
   "source": [
    "length['additional_info_length'] = length['additional_info'].map(lambda text: len(str(text)))\n",
    "length.head()"
   ]
  },
  {
   "cell_type": "code",
   "execution_count": 55,
   "metadata": {
    "collapsed": false
   },
   "outputs": [
    {
     "data": {
      "image/png": "[encoded data removed]",
      "text/plain": [
       "<matplotlib.figure.Figure at 0x1189cbe80>"
      ]
     },
     "metadata": {},
     "output_type": "display_data"
    }
   ],
   "source": [
    "length.title_length.plot(bins=20, kind='hist');\n",
    "plt.title(\"Title - Character length\");"
   ]
  },
  {
   "cell_type": "code",
   "execution_count": 56,
   "metadata": {
    "collapsed": false
   },
   "outputs": [
    {
     "data": {
      "image/png": "[encoded data removed]",
      "text/plain": [
       "<matplotlib.figure.Figure at 0x1860559e8>"
      ]
     },
     "metadata": {},
     "output_type": "display_data"
    }
   ],
   "source": [
    "length.additional_info_length.plot(bins=15, kind='hist');\n",
    "plt.title(\"Additional Info - Character length\");"
   ]
  },
  {
   "cell_type": "markdown",
   "metadata": {},
   "source": [
    "> We can see that \"additional info\" is an optional field and that overall length of each of the samples is small."
   ]
  },
  {
   "cell_type": "code",
   "execution_count": 57,
   "metadata": {
    "collapsed": false
   },
   "outputs": [
    {
     "data": {
      "image/png": "[encoded data removed]",
      "text/plain": [
       "<matplotlib.figure.Figure at 0x1860a6f28>"
      ]
     },
     "metadata": {},
     "output_type": "display_data"
    }
   ],
   "source": [
    "length[length[\"category\"] == 'kids birthday'][\"title_length\"].plot(bins=20, kind='hist');\n",
    "plt.title(\"KIDS BIRTHDAY - Title - Character length\");"
   ]
  }
 ],
 "metadata": {
  "anaconda-cloud": {},
  "kernelspec": {
   "display_name": "Python [conda env:nlp]",
   "language": "python",
   "name": "conda-env-nlp-py"
  },
  "language_info": {
   "codemirror_mode": {
    "name": "ipython",
    "version": 3
   },
   "file_extension": ".py",
   "mimetype": "text/x-python",
   "name": "python",
   "nbconvert_exporter": "python",
   "pygments_lexer": "ipython3",
   "version": "3.5.2"
  }
 },
 "nbformat": 4,
 "nbformat_minor": 0
}
