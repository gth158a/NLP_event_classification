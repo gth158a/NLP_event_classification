{
 "cells": [
  {
   "cell_type": "code",
   "execution_count": 126,
   "metadata": {
    "collapsed": false
   },
   "outputs": [],
   "source": [
    "#imports\n",
    "import pandas as pd\n",
    "import numpy as np\n",
    "import matplotlib.pyplot as plt\n",
    "import pickle\n",
    "import itertools\n",
    "import spacy\n",
    "import nltk\n",
    "%matplotlib inline"
   ]
  },
  {
   "cell_type": "code",
   "execution_count": 127,
   "metadata": {
    "collapsed": true
   },
   "outputs": [],
   "source": [
    "from sklearn.model_selection import train_test_split\n",
    "from sklearn.model_selection import KFold\n",
    "from sklearn.model_selection import cross_val_score\n",
    "from sklearn.model_selection import GridSearchCV"
   ]
  },
  {
   "cell_type": "code",
   "execution_count": 128,
   "metadata": {
    "collapsed": true
   },
   "outputs": [],
   "source": [
    "from sklearn.feature_extraction.text import CountVectorizer\n",
    "from sklearn.feature_extraction.text import TfidfVectorizer, TfidfTransformer"
   ]
  },
  {
   "cell_type": "code",
   "execution_count": 129,
   "metadata": {
    "collapsed": true
   },
   "outputs": [],
   "source": [
    "from sklearn.metrics import accuracy_score, confusion_matrix, classification_report"
   ]
  },
  {
   "cell_type": "code",
   "execution_count": 130,
   "metadata": {
    "collapsed": true
   },
   "outputs": [],
   "source": [
    "from sklearn.pipeline import Pipeline\n",
    "from sklearn.linear_model import LogisticRegression\n",
    "from sklearn.tree import DecisionTreeClassifier\n",
    "from sklearn.neighbors import KNeighborsClassifier\n",
    "from sklearn.naive_bayes import MultinomialNB\n",
    "from sklearn.svm import SVC, LinearSVC\n",
    "from sklearn.ensemble import AdaBoostClassifier\n",
    "from sklearn.ensemble import RandomForestClassifier"
   ]
  },
  {
   "cell_type": "code",
   "execution_count": 131,
   "metadata": {
    "collapsed": true
   },
   "outputs": [],
   "source": [
    "# dataframe display options\n",
    "pd.set_option('display.max_colwidth', -1)\n",
    "pd.set_option('display.max_rows', 200)"
   ]
  },
  {
   "cell_type": "markdown",
   "metadata": {},
   "source": [
    "# Preparing Dataset"
   ]
  },
  {
   "cell_type": "code",
   "execution_count": 16,
   "metadata": {
    "collapsed": false
   },
   "outputs": [],
   "source": [
    "def prepare_data(df):\n",
    "    y = df.category\n",
    "    X = df[['title', 'additional_info']].values \n",
    "    print(\"X:\", X.shape, \" y:\", y.shape)\n",
    "    return X,y"
   ]
  },
  {
   "cell_type": "code",
   "execution_count": 17,
   "metadata": {
    "collapsed": false
   },
   "outputs": [
    {
     "name": "stdout",
     "output_type": "stream",
     "text": [
      "X: (1089, 2)  y: (1089,)\n"
     ]
    }
   ],
   "source": [
    "X, y = prepare_data(g)"
   ]
  },
  {
   "cell_type": "code",
   "execution_count": 18,
   "metadata": {
    "collapsed": false
   },
   "outputs": [],
   "source": [
    "def join_columns(X):\n",
    "    X_joined = []\n",
    "    for x in X:\n",
    "        X_joined.append(str(x[0]) + str(\" - \") + str(x[1]))\n",
    "    return np.array(X_joined).reshape(-1, 1)"
   ]
  },
  {
   "cell_type": "code",
   "execution_count": 19,
   "metadata": {
    "collapsed": false
   },
   "outputs": [],
   "source": [
    "def correct_type(X):\n",
    "    X_corrected = []\n",
    "    for x in X:\n",
    "        if x == np.nan:\n",
    "            X_corrected.append(\"None\")\n",
    "        else:\n",
    "            X_corrected.append(str(x))\n",
    "    return np.array(X_corrected).reshape(-1, 1)"
   ]
  },
  {
   "cell_type": "code",
   "execution_count": 20,
   "metadata": {
    "collapsed": false
   },
   "outputs": [
    {
     "name": "stdout",
     "output_type": "stream",
     "text": [
      "(1089, 1) (1089, 1) (1089, 1)\n"
     ]
    }
   ],
   "source": [
    "X_title = correct_type(X[:,0])\n",
    "X_additional = correct_type(X[:,1])\n",
    "X_joined = join_columns(X)\n",
    "print(X_joined.shape, X_title.shape, X_additional.shape)"
   ]
  },
  {
   "cell_type": "code",
   "execution_count": 21,
   "metadata": {
    "collapsed": false
   },
   "outputs": [
    {
     "data": {
      "text/plain": [
       "'vihaan 1st birthday party - we would also like the photographer to take candid shots, use flash lighting and would require amazing snaps to keep for memories.'"
      ]
     },
     "execution_count": 21,
     "metadata": {},
     "output_type": "execute_result"
    }
   ],
   "source": [
    "X_joined[4][0]"
   ]
  },
  {
   "cell_type": "code",
   "execution_count": 22,
   "metadata": {
    "collapsed": false
   },
   "outputs": [
    {
     "data": {
      "text/plain": [
       "'vihaan 1st birthday party'"
      ]
     },
     "execution_count": 22,
     "metadata": {},
     "output_type": "execute_result"
    }
   ],
   "source": [
    "X_title[4][0]"
   ]
  },
  {
   "cell_type": "code",
   "execution_count": 23,
   "metadata": {
    "collapsed": false
   },
   "outputs": [
    {
     "data": {
      "text/plain": [
       "'we would also like the photographer to take candid shots, use flash lighting and would require amazing snaps to keep for memories.'"
      ]
     },
     "execution_count": 23,
     "metadata": {},
     "output_type": "execute_result"
    }
   ],
   "source": [
    "X_additional[4][0]"
   ]
  },
  {
   "cell_type": "markdown",
   "metadata": {},
   "source": [
    "### Split dataset into train and test"
   ]
  },
  {
   "cell_type": "markdown",
   "metadata": {},
   "source": [
    "I have three sets of data:\n",
    "+ Set 1: combination of title and additional information\n",
    "+ Set 2: title\n",
    "+ Set 3: additional information"
   ]
  },
  {
   "cell_type": "code",
   "execution_count": 24,
   "metadata": {
    "collapsed": false
   },
   "outputs": [],
   "source": [
    "X_train, X_test, y_train, y_test = train_test_split(X_joined, y, test_size=0.3, stratify=y)\n",
    "X_train2, X_test2, y_train2, y_test2 = train_test_split(X_title, y, test_size=0.3, stratify=y)\n",
    "X_train3, X_test3, y_train3, y_test3 = train_test_split(X_additional, y, test_size=0.3, stratify=y)"
   ]
  },
  {
   "cell_type": "code",
   "execution_count": 25,
   "metadata": {
    "collapsed": false
   },
   "outputs": [
    {
     "name": "stdout",
     "output_type": "stream",
     "text": [
      "(762, 1) (327, 1) (762,) (327,)\n"
     ]
    }
   ],
   "source": [
    "print(X_train.shape, X_test.shape, y_train.shape, y_test.shape)"
   ]
  },
  {
   "cell_type": "markdown",
   "metadata": {},
   "source": [
    "# Normalization: Stemming vs Lemmatization "
   ]
  },
  {
   "cell_type": "code",
   "execution_count": 27,
   "metadata": {
    "collapsed": true
   },
   "outputs": [],
   "source": [
    "# Spacy for tokenization and lemmatization\n",
    "en_nlp = spacy.load('en')"
   ]
  },
  {
   "cell_type": "code",
   "execution_count": 28,
   "metadata": {
    "collapsed": false
   },
   "outputs": [],
   "source": [
    "# List of NLTK stemmers to the tested \n",
    "snowball = nltk.stem.SnowballStemmer(\"english\")\n",
    "lancaster = nltk.stem.LancasterStemmer()\n",
    "porter = nltk.stem.PorterStemmer()"
   ]
  },
  {
   "cell_type": "code",
   "execution_count": 29,
   "metadata": {
    "collapsed": true
   },
   "outputs": [],
   "source": [
    "def compare_normalization(doc):\n",
    "    # tokenize document in spacy\n",
    "    doc_spacy = en_nlp(doc)\n",
    "    # Lemmatization\n",
    "    print(\"Lemmatization:\")\n",
    "    print([token.lemma_ for token in doc_spacy])\n",
    "    # print tokens found by Porter stemmer\n",
    "    print(\"Porter:\")\n",
    "    print([porter.stem(token.norm_.lower()) for token in doc_spacy])\n",
    "    print(\"snowball:\")\n",
    "    print([snowball.stem(token.norm_.lower()) for token in doc_spacy])    \n",
    "    print(\"lancaster:\")\n",
    "    print([lancaster.stem(token.norm_.lower()) for token in doc_spacy])    "
   ]
  },
  {
   "cell_type": "code",
   "execution_count": 30,
   "metadata": {
    "collapsed": false
   },
   "outputs": [
    {
     "name": "stdout",
     "output_type": "stream",
     "text": [
      "Lemmatization:\n",
      "['this', 'be', 'an', 'informal', 'reception', 'at', 'our', 'apartment', 'complex', 'before', 'we', 'have', 'a', 'wedding', '.', 'we', 'would', 'like', 'to', 'spend', 'the', 'first', '1', '-', '2', 'hour', 'on', 'portrait', 'of', 'just', 'the', 'two', 'of', 'us', 'at', 'nice', 'spot', 'around', 'our', 'apartment', 'complex', 'or', 'any', 'other', 'idea', 'you', 'have', '.', 'we', 'would', 'like', 'some', 'nice', 'portrait', '.', 'then', 'capture', 'a', 'bit', 'of', 'the', 'event', '.']\n",
      "Porter:\n",
      "['thi', 'is', 'an', 'inform', 'recept', 'at', 'our', 'apart', 'complex', 'befor', 'we', 'have', 'a', 'wed', '.', 'we', 'would', 'like', 'to', 'spend', 'the', 'first', '1', '-', '2', 'hour', 'on', 'portrait', 'of', 'just', 'the', 'two', 'of', 'us', 'at', 'nice', 'spot', 'around', 'our', 'apart', 'complex', 'or', 'ani', 'other', 'idea', 'you', 'have', '.', 'we', 'would', 'like', 'some', 'nice', 'portrait', '.', 'then', 'captur', 'a', 'bit', 'of', 'the', 'event', '.']\n",
      "snowball:\n",
      "['this', 'is', 'an', 'inform', 'recept', 'at', 'our', 'apart', 'complex', 'befor', 'we', 'have', 'a', 'wed', '.', 'we', 'would', 'like', 'to', 'spend', 'the', 'first', '1', '-', '2', 'hour', 'on', 'portrait', 'of', 'just', 'the', 'two', 'of', 'us', 'at', 'nice', 'spot', 'around', 'our', 'apart', 'complex', 'or', 'ani', 'other', 'idea', 'you', 'have', '.', 'we', 'would', 'like', 'some', 'nice', 'portrait', '.', 'then', 'captur', 'a', 'bit', 'of', 'the', 'event', '.']\n",
      "lancaster:\n",
      "['thi', 'is', 'an', 'inform', 'receiv', 'at', 'our', 'apart', 'complex', 'bef', 'we', 'hav', 'a', 'wed', '.', 'we', 'would', 'lik', 'to', 'spend', 'the', 'first', '1', '-', '2', 'hour', 'on', 'portrait', 'of', 'just', 'the', 'two', 'of', 'us', 'at', 'nic', 'spot', 'around', 'our', 'apart', 'complex', 'or', 'any', 'oth', 'idea', 'you', 'hav', '.', 'we', 'would', 'lik', 'som', 'nic', 'portrait', '.', 'then', 'capt', 'a', 'bit', 'of', 'the', 'ev', '.']\n"
     ]
    }
   ],
   "source": [
    "compare_normalization(u\"this is an informal reception at our apartment complex before we have a wedding. we would like to spend the first 1-2 hours on portraits of just the two of us at nice spots around our apartment complex or any other ideas you have. we would like some nice portraits. then capture a bit of the event.\")"
   ]
  },
  {
   "cell_type": "code",
   "execution_count": 31,
   "metadata": {
    "collapsed": false
   },
   "outputs": [
    {
     "name": "stdout",
     "output_type": "stream",
     "text": [
      "Lemmatization:\n",
      "['i', 'would', 'like', 'to', 'have', 'the', 'photographer', 'take', 'a', 'lot', 'of', 'pic', 'of', 'the', 'president', '(', 'rakesh', 'kumar', ')', 'mingle', 'with', 'the', 'guest', '.', 'also', ',', 'individualized', 'couple', 'and', 'family', 'pic', 'by', 'the', 'fireplace', '.', 'i', 'would', 'like', 'photo', 'of', 'decoration', ',', 'dessert', ',', 'display', 'etc', '.', 'i', 'can', 'give', 'more', 'direction', 'once', 'i', 'meet', 'with', 'the', 'photographer', '.']\n",
      "Porter:\n",
      "['i', 'would', 'like', 'to', 'have', 'the', 'photograph', 'take', 'a', 'lot', 'of', 'pic', 'of', 'the', 'presid', '(', 'rakesh', 'kumar', ')', 'mingl', 'with', 'the', 'guest', '.', 'also', ',', 'individu', 'coupl', 'and', 'famili', 'pic', 'by', 'the', 'fireplac', '.', 'i', 'would', 'like', 'photo', 'of', 'decor', ',', 'dessert', ',', 'display', 'etc', '.', 'i', 'can', 'give', 'more', 'direct', 'onc', 'i', 'meet', 'with', 'the', 'photograph', '.']\n",
      "snowball:\n",
      "['i', 'would', 'like', 'to', 'have', 'the', 'photograph', 'take', 'a', 'lot', 'of', 'pic', 'of', 'the', 'presid', '(', 'rakesh', 'kumar', ')', 'mingl', 'with', 'the', 'guest', '.', 'also', ',', 'individu', 'coupl', 'and', 'famili', 'pic', 'by', 'the', 'fireplac', '.', 'i', 'would', 'like', 'photo', 'of', 'decor', ',', 'dessert', ',', 'display', 'etc', '.', 'i', 'can', 'give', 'more', 'direct', 'onc', 'i', 'meet', 'with', 'the', 'photograph', '.']\n",
      "lancaster:\n",
      "['i', 'would', 'lik', 'to', 'hav', 'the', 'photograph', 'tak', 'a', 'lot', 'of', 'pic', 'of', 'the', 'presid', '(', 'rakesh', 'kum', ')', 'mingl', 'with', 'the', 'guest', '.', 'also', ',', 'individ', 'coupl', 'and', 'famy', 'pic', 'by', 'the', 'fireplac', '.', 'i', 'would', 'lik', 'photo', 'of', 'dec', ',', 'dessert', ',', 'display', 'etc', '.', 'i', 'can', 'giv', 'mor', 'direct', 'ont', 'i', 'meet', 'with', 'the', 'photograph', '.']\n"
     ]
    }
   ],
   "source": [
    "compare_normalization(u\"i would like to have the photographer take a lot of pics of the president (rakesh kumar) mingling with the guests. also, individualized couples and family pics by the fireplace. i would like photos of decorations, desserts, displays etc. i can give more direction once i meet with the photographer.\")"
   ]
  },
  {
   "cell_type": "markdown",
   "metadata": {},
   "source": [
    "> Lemmatization seem to mantain keywords in context. I will use lemmatization on the vectorizers"
   ]
  },
  {
   "cell_type": "code",
   "execution_count": 33,
   "metadata": {
    "collapsed": true
   },
   "outputs": [],
   "source": [
    "import re\n",
    "regexp = re.compile('(?u)\\\\b\\\\w\\\\w+\\\\b') # regexp used in CountVectorizer"
   ]
  },
  {
   "cell_type": "code",
   "execution_count": 34,
   "metadata": {
    "collapsed": false
   },
   "outputs": [],
   "source": [
    "old_tokenizer = en_nlp.tokenizer\n",
    "# replacing the tokenizer\n",
    "en_nlp.tokenizer = lambda string: old_tokenizer.tokens_from_list(regexp.findall(string))"
   ]
  },
  {
   "cell_type": "code",
   "execution_count": 35,
   "metadata": {
    "collapsed": false
   },
   "outputs": [],
   "source": [
    "def custom_tokenizer(document):\n",
    "    doc_spacy = en_nlp(document, entity=False, parse=False) \n",
    "    return [token.lemma_ for token in doc_spacy]"
   ]
  },
  {
   "cell_type": "markdown",
   "metadata": {},
   "source": [
    "### Stop words"
   ]
  },
  {
   "cell_type": "markdown",
   "metadata": {},
   "source": [
    "I used the stop words during the cleanup process"
   ]
  },
  {
   "cell_type": "code",
   "execution_count": 36,
   "metadata": {
    "collapsed": true
   },
   "outputs": [],
   "source": [
    "from sklearn.feature_extraction import text "
   ]
  },
  {
   "cell_type": "code",
   "execution_count": 37,
   "metadata": {
    "collapsed": true
   },
   "outputs": [],
   "source": [
    "my_additional_stop_words = [\"nan\", \"test\", \"fdghjkl\", \"test2\", \"dddfgb2v\", \"etc\"]"
   ]
  },
  {
   "cell_type": "code",
   "execution_count": 38,
   "metadata": {
    "collapsed": false
   },
   "outputs": [],
   "source": [
    "s_words = text.ENGLISH_STOP_WORDS.union(my_additional_stop_words)"
   ]
  },
  {
   "cell_type": "markdown",
   "metadata": {},
   "source": [
    "# Vectorizers"
   ]
  },
  {
   "cell_type": "markdown",
   "metadata": {},
   "source": [
    "### Count Vectorizer"
   ]
  },
  {
   "cell_type": "code",
   "execution_count": 39,
   "metadata": {
    "collapsed": false
   },
   "outputs": [],
   "source": [
    "count_vect = CountVectorizer(analyzer=u'word', tokenizer=custom_tokenizer, stop_words=s_words, ngram_range=(1,2), min_df=3)"
   ]
  },
  {
   "cell_type": "code",
   "execution_count": 40,
   "metadata": {
    "collapsed": false
   },
   "outputs": [
    {
     "name": "stdout",
     "output_type": "stream",
     "text": [
      "(762, 1099) (327, 1099) Vocabulary size:  1099\n"
     ]
    }
   ],
   "source": [
    "X_train_counts = count_vect.fit_transform(X_train.ravel())\n",
    "X_test_counts = count_vect.transform(X_test.ravel())\n",
    "print(X_train_counts.shape, X_test_counts.shape, \"Vocabulary size: \", len(count_vect.vocabulary_))"
   ]
  },
  {
   "cell_type": "markdown",
   "metadata": {},
   "source": [
    "### Binary Count Vectorizer"
   ]
  },
  {
   "cell_type": "code",
   "execution_count": 41,
   "metadata": {
    "collapsed": false
   },
   "outputs": [],
   "source": [
    "count_vect_bin = CountVectorizer(analyzer=u'word', tokenizer=custom_tokenizer, binary=True, stop_words=s_words, ngram_range=(1,2), min_df=3)"
   ]
  },
  {
   "cell_type": "code",
   "execution_count": 42,
   "metadata": {
    "collapsed": false
   },
   "outputs": [
    {
     "name": "stdout",
     "output_type": "stream",
     "text": [
      "(762, 1099) (327, 1099) Vocabulary size:  1099\n"
     ]
    }
   ],
   "source": [
    "X_train_counts_bin = count_vect_bin.fit_transform(X_train.ravel())\n",
    "X_test_counts_bin = count_vect_bin.transform(X_test.ravel())\n",
    "print(X_train_counts_bin.shape, X_test_counts_bin.shape, \"Vocabulary size: \", len(count_vect_bin.vocabulary_))"
   ]
  },
  {
   "cell_type": "markdown",
   "metadata": {},
   "source": [
    "### Term Frequency Vectorizer"
   ]
  },
  {
   "cell_type": "code",
   "execution_count": 43,
   "metadata": {
    "collapsed": false
   },
   "outputs": [
    {
     "name": "stdout",
     "output_type": "stream",
     "text": [
      "(762, 1099) (327, 1099)\n"
     ]
    }
   ],
   "source": [
    "tf = TfidfTransformer(use_idf=False)\n",
    "X_train_tf = tf.fit_transform(X_train_counts)\n",
    "X_test_tf = tf.transform(X_test_counts)\n",
    "print(X_train_tf.shape, X_test_tf.shape)"
   ]
  },
  {
   "cell_type": "markdown",
   "metadata": {},
   "source": [
    "### Tf-idf Vectorizer"
   ]
  },
  {
   "cell_type": "markdown",
   "metadata": {},
   "source": [
    "An even more effective way to vectorize text data is by using Tfidf. In brief, you can multiply the term frequency of the words that compose a document by the inverse document frequency of the word itself (that is, in the number of documents it appears, if logarithmically scaled). This is very handy to highlight words that effectively describe each document, and is a powerful discriminative element among the dataset."
   ]
  },
  {
   "cell_type": "code",
   "execution_count": 44,
   "metadata": {
    "collapsed": false
   },
   "outputs": [],
   "source": [
    "tf_idf = TfidfVectorizer(tokenizer=custom_tokenizer, stop_words=s_words, ngram_range=(1,2), min_df=3)"
   ]
  },
  {
   "cell_type": "code",
   "execution_count": 45,
   "metadata": {
    "collapsed": false
   },
   "outputs": [
    {
     "name": "stdout",
     "output_type": "stream",
     "text": [
      "(762, 1099) (327, 1099) Vocabulary size:  1099\n"
     ]
    }
   ],
   "source": [
    "X_train_tfidf = tf_idf.fit_transform(X_train.ravel())\n",
    "X_test_tfidf = tf_idf.transform(X_test.ravel())\n",
    "print(X_train_tfidf.shape, X_test_tfidf.shape, \"Vocabulary size: \", len(tf_idf.vocabulary_))"
   ]
  },
  {
   "cell_type": "markdown",
   "metadata": {},
   "source": [
    "# Very short texts are likely to have noisy tf–idf values while the binary occurrence info is more stable."
   ]
  },
  {
   "cell_type": "markdown",
   "metadata": {},
   "source": [
    "# Building Baseline model"
   ]
  },
  {
   "cell_type": "markdown",
   "metadata": {},
   "source": [
    "According to Sklearn documentation:\n",
    "> Inherently multiclass: Naive Bayes, Decision Trees, Random Forests, Nearest Neighbors,  LogisticRegression ('multinomial')"
   ]
  },
  {
   "cell_type": "code",
   "execution_count": 47,
   "metadata": {
    "collapsed": false
   },
   "outputs": [],
   "source": [
    "#Baseline models:\n",
    "models = []\n",
    "models.append(('MNB', MultinomialNB()))\n",
    "models.append(('CART', DecisionTreeClassifier())) \n",
    "models.append(('KNN', KNeighborsClassifier())) \n",
    "models.append(('LR', LogisticRegression(multi_class='multinomial', solver='newton-cg'))) \n",
    "models.append(('SVM', LinearSVC())) "
   ]
  },
  {
   "cell_type": "code",
   "execution_count": 48,
   "metadata": {
    "collapsed": true
   },
   "outputs": [],
   "source": [
    "# Test options and evaluation metric\n",
    "num_folds = 5\n",
    "seed = 7\n",
    "scoring = 'accuracy'"
   ]
  },
  {
   "cell_type": "code",
   "execution_count": 49,
   "metadata": {
    "collapsed": true
   },
   "outputs": [],
   "source": [
    "def compute_baseline(models, X_train_counts, y_train, num_folds, scoring):\n",
    "    results = []\n",
    "    names = []\n",
    "    for name, model in models:\n",
    "        kfold = KFold(n_splits=num_folds, random_state=seed)\n",
    "        cv_results = cross_val_score(model, X_train_counts, y_train, cv=kfold, scoring=scoring)\n",
    "        results.append(cv_results)\n",
    "        names.append(name)\n",
    "        print(\"[{}] \\t{:.3f} ({:.3f})\".format(name, cv_results.mean(), cv_results.std()))\n",
    "\n",
    "    return names, results"
   ]
  },
  {
   "cell_type": "code",
   "execution_count": 50,
   "metadata": {
    "collapsed": true
   },
   "outputs": [],
   "source": [
    "def plot_baseline(names, results, classes=9, order=True, guess=True):\n",
    "    #sorting prior to plotting\n",
    "    if order == True:\n",
    "        rm = np.median(results, axis=1)\n",
    "        idxs = np.argsort(rm)[::-1]\n",
    "        names = np.array(names)[idxs]\n",
    "        r = []\n",
    "        for i in idxs:\n",
    "            r.append(results[i])\n",
    "        results = r   \n",
    "    fig = plt.figure() \n",
    "    plt.title('Algorithm Comparison')\n",
    "    plt.ylabel(\"Accuracy Score\")\n",
    "    ax = fig.add_subplot(111) \n",
    "    plt.boxplot(results)\n",
    "    if guess:\n",
    "        plt.ylim(0,1)\n",
    "        plt.hlines(y=1/classes, xmin=0, xmax =10, linestyles=\"--\", label='Guessing', color='g')\n",
    "        plt.legend()\n",
    "    ax.set_xticklabels(names) \n",
    "    plt.show()"
   ]
  },
  {
   "cell_type": "code",
   "execution_count": 51,
   "metadata": {
    "collapsed": true
   },
   "outputs": [],
   "source": [
    "def evaluate_features(models, X_train_counts, y_train, num_folds, scoring, guess=True):\n",
    "    names, results = compute_baseline(models, X_train_counts, y_train, num_folds, scoring)\n",
    "    plot_baseline(names, results, order=True, classes=len(np.unique(y_train)), guess=guess)"
   ]
  },
  {
   "cell_type": "markdown",
   "metadata": {},
   "source": [
    "## Evaluating models with each of the different types of vectorizers created in the previous section"
   ]
  },
  {
   "cell_type": "code",
   "execution_count": 134,
   "metadata": {
    "collapsed": false
   },
   "outputs": [
    {
     "name": "stdout",
     "output_type": "stream",
     "text": [
      "[MNB] \t0.585 (0.061)\n",
      "[CART] \t0.566 (0.041)\n",
      "[KNN] \t0.499 (0.047)\n",
      "[LR] \t0.630 (0.046)\n",
      "[SVM] \t0.604 (0.045)\n"
     ]
    },
    {
     "data": {
      "image/png": "[encoded data removed]",
      "text/plain": [
       "<matplotlib.figure.Figure at 0x122f2f2b0>"
      ]
     },
     "metadata": {},
     "output_type": "display_data"
    }
   ],
   "source": [
    "evaluate_features(models, X_train_counts, y_train, num_folds, scoring, guess=False)"
   ]
  },
  {
   "cell_type": "markdown",
   "metadata": {},
   "source": [
    "> SVM and Logistic Regression do well with a simple count vertorizer"
   ]
  },
  {
   "cell_type": "code",
   "execution_count": 135,
   "metadata": {
    "collapsed": false
   },
   "outputs": [
    {
     "name": "stdout",
     "output_type": "stream",
     "text": [
      "[MNB] \t0.589 (0.062)\n",
      "[CART] \t0.568 (0.039)\n",
      "[KNN] \t0.507 (0.041)\n",
      "[LR] \t0.631 (0.050)\n",
      "[SVM] \t0.612 (0.045)\n"
     ]
    },
    {
     "data": {
      "image/png": "[encoded data removed]",
      "text/plain": [
       "<matplotlib.figure.Figure at 0x12adacda0>"
      ]
     },
     "metadata": {},
     "output_type": "display_data"
    }
   ],
   "source": [
    "evaluate_features(models, X_train_counts_bin, y_train, num_folds, scoring)"
   ]
  },
  {
   "cell_type": "markdown",
   "metadata": {},
   "source": [
    "## TermFrequency"
   ]
  },
  {
   "cell_type": "code",
   "execution_count": 136,
   "metadata": {
    "collapsed": false
   },
   "outputs": [
    {
     "name": "stdout",
     "output_type": "stream",
     "text": [
      "[MNB] \t0.500 (0.076)\n",
      "[CART] \t0.554 (0.026)\n",
      "[KNN] \t0.404 (0.027)\n",
      "[LR] \t0.600 (0.071)\n",
      "[SVM] \t0.631 (0.047)\n"
     ]
    },
    {
     "data": {
      "image/png": "[encoded data removed]",
      "text/plain": [
       "<matplotlib.figure.Figure at 0x120e38438>"
      ]
     },
     "metadata": {},
     "output_type": "display_data"
    }
   ],
   "source": [
    "evaluate_features(models, X_train_tf, y_train, num_folds, scoring)"
   ]
  },
  {
   "cell_type": "code",
   "execution_count": 55,
   "metadata": {
    "collapsed": false
   },
   "outputs": [
    {
     "name": "stdout",
     "output_type": "stream",
     "text": [
      "[MNB] \t0.509 (0.075)\n",
      "[CART] \t0.552 (0.027)\n",
      "[KNN] \t0.312 (0.040)\n",
      "[LR] \t0.597 (0.078)\n",
      "[SVM] \t0.619 (0.036)\n"
     ]
    },
    {
     "data": {
      "image/png": "[encoded data removed]",
      "text/plain": [
       "<matplotlib.figure.Figure at 0x1205cb748>"
      ]
     },
     "metadata": {},
     "output_type": "display_data"
    }
   ],
   "source": [
    "evaluate_features(models, X_train_tfidf, y_train, num_folds, scoring)"
   ]
  },
  {
   "cell_type": "markdown",
   "metadata": {},
   "source": [
    "> I will proceed to tune the parameters of SVM, LR and MNB"
   ]
  },
  {
   "cell_type": "markdown",
   "metadata": {},
   "source": [
    "## Emsemble methods"
   ]
  },
  {
   "cell_type": "markdown",
   "metadata": {},
   "source": [
    "> CART (Decision trees) seem to be performing OK. I am interested in seeing if Random Forest could boost that performance significantly."
   ]
  },
  {
   "cell_type": "code",
   "execution_count": 137,
   "metadata": {
    "collapsed": false
   },
   "outputs": [],
   "source": [
    "# ensembles\n",
    "ensembles = []\n",
    "ensembles.append(('AB', AdaBoostClassifier())) \n",
    "ensembles.append(('RF', RandomForestClassifier())) "
   ]
  },
  {
   "cell_type": "code",
   "execution_count": 138,
   "metadata": {
    "collapsed": false
   },
   "outputs": [
    {
     "name": "stdout",
     "output_type": "stream",
     "text": [
      "[AB] \t0.490 (0.066)\n",
      "[RF] \t0.572 (0.054)\n"
     ]
    },
    {
     "data": {
      "image/png": "[encoded data removed]",
      "text/plain": [
       "<matplotlib.figure.Figure at 0x125386f98>"
      ]
     },
     "metadata": {},
     "output_type": "display_data"
    }
   ],
   "source": [
    "evaluate_features(ensembles, X_train_counts_bin, y_train, num_folds, scoring, guess=True)"
   ]
  },
  {
   "cell_type": "code",
   "execution_count": 139,
   "metadata": {
    "collapsed": false
   },
   "outputs": [
    {
     "name": "stdout",
     "output_type": "stream",
     "text": [
      "[AB] \t0.492 (0.065)\n",
      "[RF] \t0.571 (0.066)\n"
     ]
    },
    {
     "data": {
      "image/png": "[encoded data removed]",
      "text/plain": [
       "<matplotlib.figure.Figure at 0x12add78d0>"
      ]
     },
     "metadata": {},
     "output_type": "display_data"
    }
   ],
   "source": [
    "evaluate_features(ensembles, X_train_tf, y_train, num_folds, scoring, guess=True)"
   ]
  },
  {
   "cell_type": "code",
   "execution_count": 140,
   "metadata": {
    "collapsed": false
   },
   "outputs": [
    {
     "name": "stdout",
     "output_type": "stream",
     "text": [
      "[AB] \t0.490 (0.055)\n",
      "[RF] \t0.570 (0.035)\n"
     ]
    },
    {
     "data": {
      "image/png": "[encoded data removed]",
      "text/plain": [
       "<matplotlib.figure.Figure at 0x1224619e8>"
      ]
     },
     "metadata": {},
     "output_type": "display_data"
    }
   ],
   "source": [
    "evaluate_features(ensembles, X_train_tfidf, y_train, num_folds, scoring, guess=True)"
   ]
  },
  {
   "cell_type": "markdown",
   "metadata": {},
   "source": [
    "> The improvement with default parameters is not significant. I will proceed to fine tune the models selected in the previous section."
   ]
  }
 ],
 "metadata": {
  "anaconda-cloud": {},
  "kernelspec": {
   "display_name": "Python [conda env:nlp]",
   "language": "python",
   "name": "conda-env-nlp-py"
  },
  "language_info": {
   "codemirror_mode": {
    "name": "ipython",
    "version": 3
   },
   "file_extension": ".py",
   "mimetype": "text/x-python",
   "name": "python",
   "nbconvert_exporter": "python",
   "pygments_lexer": "ipython3",
   "version": "3.5.2"
  }
 },
 "nbformat": 4,
 "nbformat_minor": 0
}
