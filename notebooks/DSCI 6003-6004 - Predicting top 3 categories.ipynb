{
 "cells": [
  {
   "cell_type": "code",
   "execution_count": 126,
   "metadata": {
    "collapsed": false
   },
   "outputs": [],
   "source": [
    "#imports\n",
    "import pandas as pd\n",
    "import numpy as np\n",
    "import matplotlib.pyplot as plt\n",
    "import pickle\n",
    "import itertools\n",
    "import spacy\n",
    "import nltk\n",
    "%matplotlib inline"
   ]
  },
  {
   "cell_type": "code",
   "execution_count": 127,
   "metadata": {
    "collapsed": true
   },
   "outputs": [],
   "source": [
    "from sklearn.model_selection import train_test_split\n",
    "from sklearn.model_selection import KFold\n",
    "from sklearn.model_selection import cross_val_score\n",
    "from sklearn.model_selection import GridSearchCV"
   ]
  },
  {
   "cell_type": "code",
   "execution_count": 128,
   "metadata": {
    "collapsed": true
   },
   "outputs": [],
   "source": [
    "from sklearn.feature_extraction.text import CountVectorizer\n",
    "from sklearn.feature_extraction.text import TfidfVectorizer, TfidfTransformer"
   ]
  },
  {
   "cell_type": "code",
   "execution_count": 129,
   "metadata": {
    "collapsed": true
   },
   "outputs": [],
   "source": [
    "from sklearn.metrics import accuracy_score, confusion_matrix, classification_report"
   ]
  },
  {
   "cell_type": "code",
   "execution_count": 130,
   "metadata": {
    "collapsed": true
   },
   "outputs": [],
   "source": [
    "from sklearn.pipeline import Pipeline\n",
    "from sklearn.linear_model import LogisticRegression\n",
    "from sklearn.tree import DecisionTreeClassifier\n",
    "from sklearn.neighbors import KNeighborsClassifier\n",
    "from sklearn.naive_bayes import MultinomialNB\n",
    "from sklearn.svm import SVC, LinearSVC\n",
    "from sklearn.ensemble import AdaBoostClassifier\n",
    "from sklearn.ensemble import RandomForestClassifier"
   ]
  },
  {
   "cell_type": "code",
   "execution_count": 131,
   "metadata": {
    "collapsed": true
   },
   "outputs": [],
   "source": [
    "# dataframe display options\n",
    "pd.set_option('display.max_colwidth', -1)\n",
    "pd.set_option('display.max_rows', 200)"
   ]
  },
  {
   "cell_type": "markdown",
   "metadata": {},
   "source": [
    "# Finalize model: Use Logistic Regression to recommend top 3 categories"
   ]
  },
  {
   "cell_type": "markdown",
   "metadata": {},
   "source": [
    "After fine tuning the parameters of each of the models it became clear that the performance of SVM is superior (F1=0.64) as compared to LR (F1=0.62) and MNB(F1=0.62). Nonetheless, the improvement of performance comes at the cost of interpretability of feature importance and a high complexity of parameters.\n",
    "> I will use Logistic Regression and use top k predictions to boost the accuracy of the model."
   ]
  },
  {
   "cell_type": "markdown",
   "metadata": {
    "collapsed": true
   },
   "source": [
    "### Update prediction list\n",
    "If correct category is within the top k categories pick coorect category, else pick first item in top k categories."
   ]
  },
  {
   "cell_type": "code",
   "execution_count": 268,
   "metadata": {
    "collapsed": true
   },
   "outputs": [],
   "source": [
    "def multiplek(y_test, topk):\n",
    "    multik = []\n",
    "    for i, score in enumerate(y_test):\n",
    "        if y_test[i] in topk[i]:\n",
    "            multik.append(y_test[i])\n",
    "        else:\n",
    "            multik.append(topk[i][0])\n",
    "    return multik"
   ]
  },
  {
   "cell_type": "markdown",
   "metadata": {},
   "source": [
    "### Predicting top 3 categories"
   ]
  },
  {
   "cell_type": "markdown",
   "metadata": {},
   "source": [
    "Top 3 categories are the top 3 categories with the highest probability."
   ]
  },
  {
   "cell_type": "code",
   "execution_count": 121,
   "metadata": {
    "collapsed": false
   },
   "outputs": [],
   "source": [
    "pred = grid.predict(X_test.ravel())  # predicts a category\n",
    "p_prob = grid.predict_proba(X_test.ravel()) # predicts the probabilities of each category"
   ]
  },
  {
   "cell_type": "code",
   "execution_count": 85,
   "metadata": {
    "collapsed": true
   },
   "outputs": [],
   "source": [
    "idxs = np.argsort(p_prob[0])[::-1] # sorts probabilities in descending order"
   ]
  },
  {
   "cell_type": "code",
   "execution_count": 88,
   "metadata": {
    "collapsed": false
   },
   "outputs": [
    {
     "name": "stdout",
     "output_type": "stream",
     "text": [
      "['kids birthday' 'private party' 'life celebration']\n"
     ]
    }
   ],
   "source": [
    "print(grid.best_estimator_.named_steps[\"lr\"].classes_[idxs][:3])"
   ]
  },
  {
   "cell_type": "markdown",
   "metadata": {},
   "source": [
    "The function below brings all the steps above so it can be applied to the X_test set."
   ]
  },
  {
   "cell_type": "code",
   "execution_count": 91,
   "metadata": {
    "collapsed": true
   },
   "outputs": [],
   "source": [
    "def topk_scored(model,step_name X_test, k):\n",
    "    results = []\n",
    "    p_prob = model.predict_proba(X_test)\n",
    "    for pred in p_prob:\n",
    "        idxs = np.argsort(pred)[::-1]\n",
    "        results.append(model.best_estimator_.named_steps[step_name].classes_[idxs][:k])\n",
    "    return results"
   ]
  },
  {
   "cell_type": "code",
   "execution_count": 93,
   "metadata": {
    "collapsed": false
   },
   "outputs": [],
   "source": [
    "pps = topk_scored(grid,\"lr\", X_test.ravel(), 3)"
   ]
  },
  {
   "cell_type": "markdown",
   "metadata": {},
   "source": [
    "The function below marks the result as positive if the correct category is within topk."
   ]
  },
  {
   "cell_type": "code",
   "execution_count": 95,
   "metadata": {
    "collapsed": false
   },
   "outputs": [],
   "source": [
    "def scoring_multiplek(y_test, topk):\n",
    "    result = 0\n",
    "    l = len(y_test)\n",
    "    for i, score in enumerate(y_test):\n",
    "        if y_test[i] in topk[i]:\n",
    "            result += 1\n",
    "    return result/l"
   ]
  },
  {
   "cell_type": "code",
   "execution_count": 120,
   "metadata": {
    "collapsed": false
   },
   "outputs": [
    {
     "data": {
      "text/plain": [
       "0.8593272171253823"
      ]
     },
     "execution_count": 120,
     "metadata": {},
     "output_type": "execute_result"
    }
   ],
   "source": [
    "adjusted_score = scoring_multiplek(y_test.values, pps)\n",
    "adjusted_score"
   ]
  },
  {
   "cell_type": "markdown",
   "metadata": {},
   "source": [
    "> By selecting the top 3 categories, the <u>accuracy score</u> using Logistic Regression goes **from %64 to 86%.**"
   ]
  },
  {
   "cell_type": "markdown",
   "metadata": {},
   "source": [
    "### Display example of predicted top 3 categories"
   ]
  },
  {
   "cell_type": "code",
   "execution_count": 99,
   "metadata": {
    "collapsed": false
   },
   "outputs": [
    {
     "data": {
      "text/plain": [
       "array([[ \"lucas immanuel's ist birthday and baby dedication - kindly capture this precious moment, as we celebrate a milestone for our son:-) \"],\n",
       "       [ 'kurt and maty engangement - engagement photos, just me and fiance. would like to take shots at various places around campus.'],\n",
       "       [ 'konica minolta anaheim demo - we will be demo-ing certain items including flying a drone outside']], \n",
       "      dtype='<U1054')"
      ]
     },
     "execution_count": 99,
     "metadata": {},
     "output_type": "execute_result"
    }
   ],
   "source": [
    "X_test[:3]"
   ]
  },
  {
   "cell_type": "code",
   "execution_count": 100,
   "metadata": {
    "collapsed": false
   },
   "outputs": [
    {
     "data": {
      "text/plain": [
       "805     kids birthday   \n",
       "1063    life celebration\n",
       "663     other           \n",
       "Name: category, dtype: object"
      ]
     },
     "execution_count": 100,
     "metadata": {},
     "output_type": "execute_result"
    }
   ],
   "source": [
    "y_test[:3]"
   ]
  },
  {
   "cell_type": "code",
   "execution_count": 101,
   "metadata": {
    "collapsed": false
   },
   "outputs": [
    {
     "data": {
      "text/plain": [
       "[array(['kids birthday', 'private party', 'life celebration'], dtype=object),\n",
       " array(['life celebration', 'private party', 'company event'], dtype=object),\n",
       " array(['company event', 'private party', 'portrait shoot'], dtype=object)]"
      ]
     },
     "execution_count": 101,
     "metadata": {},
     "output_type": "execute_result"
    }
   ],
   "source": [
    "pps[:3]"
   ]
  },
  {
   "cell_type": "code",
   "execution_count": 116,
   "metadata": {
    "collapsed": true
   },
   "outputs": [],
   "source": [
    "# Dataframe to review 3-category predictions\n",
    "cont = list(zip(X_test,y_test.values, pps))\n",
    "cols = [\"Input\", \"Input Category\", \"Predicted Categories\"]\n",
    "results_df = pd.DataFrame(cont ,columns=cols)"
   ]
  },
  {
   "cell_type": "code",
   "execution_count": 117,
   "metadata": {
    "collapsed": false
   },
   "outputs": [
    {
     "data": {
      "text/html": [
       "<div>\n",
       "<table border=\"1\" class=\"dataframe\">\n",
       "  <thead>\n",
       "    <tr style=\"text-align: right;\">\n",
       "      <th></th>\n",
       "      <th>Input</th>\n",
       "      <th>Input Category</th>\n",
       "      <th>Predicted Categories</th>\n",
       "    </tr>\n",
       "  </thead>\n",
       "  <tbody>\n",
       "    <tr>\n",
       "      <th>0</th>\n",
       "      <td>[lucas immanuel's ist birthday and baby dedication - kindly capture this precious moment, as we celebrate a milestone for our son:-) ]</td>\n",
       "      <td>kids birthday</td>\n",
       "      <td>[kids birthday, private party, life celebration]</td>\n",
       "    </tr>\n",
       "    <tr>\n",
       "      <th>1</th>\n",
       "      <td>[kurt and maty engangement - engagement photos, just me and fiance. would like to take shots at various places around campus.]</td>\n",
       "      <td>life celebration</td>\n",
       "      <td>[life celebration, private party, company event]</td>\n",
       "    </tr>\n",
       "    <tr>\n",
       "      <th>2</th>\n",
       "      <td>[konica minolta anaheim demo - we will be demo-ing certain items including flying a drone outside]</td>\n",
       "      <td>other</td>\n",
       "      <td>[company event, private party, portrait shoot]</td>\n",
       "    </tr>\n",
       "    <tr>\n",
       "      <th>3</th>\n",
       "      <td>[16ntc headshots - headshots for guests at conference. schedule: wed, mar 23 - 12:00 - 1:30, thu, mar 24 - 12:00 - 1:30, 3:00 - 5:00, fri, mar 25 - 12:00 - 1:30]</td>\n",
       "      <td>conference</td>\n",
       "      <td>[company event, conference, portrait shoot]</td>\n",
       "    </tr>\n",
       "    <tr>\n",
       "      <th>4</th>\n",
       "      <td>[the big c's cal vs. ucla game watch party - a mixture of candid shots and individual/group shots if guests would like.]</td>\n",
       "      <td>private party</td>\n",
       "      <td>[life celebration, private party, company event]</td>\n",
       "    </tr>\n",
       "  </tbody>\n",
       "</table>\n",
       "</div>"
      ],
      "text/plain": [
       "                                                                                                                                                               Input  \\\n",
       "0  [lucas immanuel's ist birthday and baby dedication - kindly capture this precious moment, as we celebrate a milestone for our son:-) ]                              \n",
       "1  [kurt and maty engangement - engagement photos, just me and fiance. would like to take shots at various places around campus.]                                      \n",
       "2  [konica minolta anaheim demo - we will be demo-ing certain items including flying a drone outside]                                                                  \n",
       "3  [16ntc headshots - headshots for guests at conference. schedule: wed, mar 23 - 12:00 - 1:30, thu, mar 24 - 12:00 - 1:30, 3:00 - 5:00, fri, mar 25 - 12:00 - 1:30]   \n",
       "4  [the big c's cal vs. ucla game watch party - a mixture of candid shots and individual/group shots if guests would like.]                                            \n",
       "\n",
       "     Input Category                              Predicted Categories  \n",
       "0  kids birthday     [kids birthday, private party, life celebration]  \n",
       "1  life celebration  [life celebration, private party, company event]  \n",
       "2  other             [company event, private party, portrait shoot]    \n",
       "3  conference        [company event, conference, portrait shoot]       \n",
       "4  private party     [life celebration, private party, company event]  "
      ]
     },
     "execution_count": 117,
     "metadata": {},
     "output_type": "execute_result"
    }
   ],
   "source": [
    "results_df.head()"
   ]
  },
  {
   "cell_type": "code",
   "execution_count": 118,
   "metadata": {
    "collapsed": false
   },
   "outputs": [
    {
     "data": {
      "text/html": [
       "<div>\n",
       "<table border=\"1\" class=\"dataframe\">\n",
       "  <thead>\n",
       "    <tr style=\"text-align: right;\">\n",
       "      <th></th>\n",
       "      <th>Input</th>\n",
       "      <th>Input Category</th>\n",
       "      <th>Predicted Categories</th>\n",
       "    </tr>\n",
       "  </thead>\n",
       "  <tbody>\n",
       "    <tr>\n",
       "      <th>322</th>\n",
       "      <td>[tori &amp; aric's wedding shower - co-ed wedding shower]</td>\n",
       "      <td>life celebration</td>\n",
       "      <td>[wedding, private party, life celebration]</td>\n",
       "    </tr>\n",
       "    <tr>\n",
       "      <th>323</th>\n",
       "      <td>[alex &amp; anya's magic 9th! - twins 9th birthday party. i want pictures of my kids engaged with other kids, when blowing candles, cake etc.]</td>\n",
       "      <td>kids birthday</td>\n",
       "      <td>[kids birthday, private party, life celebration]</td>\n",
       "    </tr>\n",
       "    <tr>\n",
       "      <th>324</th>\n",
       "      <td>[tara turns one - baby shots with parents, the cakes and just a lot of happy smiles :d]</td>\n",
       "      <td>kids birthday</td>\n",
       "      <td>[kids birthday, baby shower, wedding]</td>\n",
       "    </tr>\n",
       "    <tr>\n",
       "      <th>325</th>\n",
       "      <td>[rachana graduation/ 75th birthday - will inform additional info as the event comes closer]</td>\n",
       "      <td>private party</td>\n",
       "      <td>[kids birthday, private party, life celebration]</td>\n",
       "    </tr>\n",
       "    <tr>\n",
       "      <th>326</th>\n",
       "      <td>[prisha's 1st b'day - i would need a photographer experienced with kid's 1st b'day party. also in the beginning of the event i would need some professional shots of the baby and my family. main focus should be on the baby's professional pictures as well as the family pics.]</td>\n",
       "      <td>kids birthday</td>\n",
       "      <td>[kids birthday, portrait shoot, private party]</td>\n",
       "    </tr>\n",
       "  </tbody>\n",
       "</table>\n",
       "</div>"
      ],
      "text/plain": [
       "                                                                                                                                                                                                                                                                                  Input  \\\n",
       "322  [tori & aric's wedding shower - co-ed wedding shower]                                                                                                                                                                                                                                \n",
       "323  [alex & anya's magic 9th! - twins 9th birthday party. i want pictures of my kids engaged with other kids, when blowing candles, cake etc.]                                                                                                                                           \n",
       "324  [tara turns one - baby shots with parents, the cakes and just a lot of happy smiles :d]                                                                                                                                                                                              \n",
       "325  [rachana graduation/ 75th birthday - will inform additional info as the event comes closer]                                                                                                                                                                                          \n",
       "326  [prisha's 1st b'day - i would need a photographer experienced with kid's 1st b'day party. also in the beginning of the event i would need some professional shots of the baby and my family. main focus should be on the baby's professional pictures as well as the family pics.]   \n",
       "\n",
       "       Input Category                              Predicted Categories  \n",
       "322  life celebration  [wedding, private party, life celebration]        \n",
       "323  kids birthday     [kids birthday, private party, life celebration]  \n",
       "324  kids birthday     [kids birthday, baby shower, wedding]             \n",
       "325  private party     [kids birthday, private party, life celebration]  \n",
       "326  kids birthday     [kids birthday, portrait shoot, private party]    "
      ]
     },
     "execution_count": 118,
     "metadata": {},
     "output_type": "execute_result"
    }
   ],
   "source": [
    "results_df.tail()"
   ]
  },
  {
   "cell_type": "code",
   "execution_count": 119,
   "metadata": {
    "collapsed": false
   },
   "outputs": [
    {
     "data": {
      "text/plain": [
       "0.8593272171253823"
      ]
     },
     "execution_count": 119,
     "metadata": {},
     "output_type": "execute_result"
    }
   ],
   "source": [
    "sc = scoring_multiplek(y_test.values, pps)\n",
    "sc"
   ]
  },
  {
   "cell_type": "markdown",
   "metadata": {},
   "source": [
    "# Implementation of Top 3 category recomendations"
   ]
  },
  {
   "cell_type": "markdown",
   "metadata": {},
   "source": [
    "The implementation of Logistic Regression with top 3 categories would look like the mockup below:"
   ]
  },
  {
   "cell_type": "markdown",
   "metadata": {
    "collapsed": true
   },
   "source": [
    "<img src='result.png'>"
   ]
  },
  {
   "cell_type": "code",
   "execution_count": 111,
   "metadata": {
    "collapsed": true
   },
   "outputs": [],
   "source": [
    "x = \"new on twitter - shots of the keynote speakers, the panel members and the audiences reactions, as well as while people network. posed are fine but candid photos are preferred. the photographer will need to check in on the first floor with building security and say s/he is visiting twitter. security will send s/he to the 9th floor where they will check in with reception.\""
   ]
  },
  {
   "cell_type": "code",
   "execution_count": 168,
   "metadata": {
    "collapsed": false
   },
   "outputs": [
    {
     "name": "stdout",
     "output_type": "stream",
     "text": [
      "['company event', 'life celebration', 'conference']\n"
     ]
    }
   ],
   "source": [
    "example = grid.predict_proba(x)\n",
    "ex_idxs = np.argsort(example[0])[::-1]\n",
    "print(grid.best_estimator_.named_steps[\"lr\"].classes_[ex_idxs][:3])"
   ]
  },
  {
   "cell_type": "markdown",
   "metadata": {},
   "source": [
    "> The correct category as in the dataset is \"company event\""
   ]
  }
 ],
 "metadata": {
  "anaconda-cloud": {},
  "kernelspec": {
   "display_name": "Python [conda env:nlp]",
   "language": "python",
   "name": "conda-env-nlp-py"
  },
  "language_info": {
   "codemirror_mode": {
    "name": "ipython",
    "version": 3
   },
   "file_extension": ".py",
   "mimetype": "text/x-python",
   "name": "python",
   "nbconvert_exporter": "python",
   "pygments_lexer": "ipython3",
   "version": "3.5.2"
  }
 },
 "nbformat": 4,
 "nbformat_minor": 0
}
