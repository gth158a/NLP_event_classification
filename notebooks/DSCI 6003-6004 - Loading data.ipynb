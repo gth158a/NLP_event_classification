{
 "cells": [
  {
   "cell_type": "code",
   "execution_count": 126,
   "metadata": {
    "collapsed": false
   },
   "outputs": [],
   "source": [
    "#imports\n",
    "import pandas as pd\n",
    "import numpy as np\n",
    "import matplotlib.pyplot as plt\n",
    "import pickle\n",
    "import itertools\n",
    "import spacy\n",
    "import nltk\n",
    "%matplotlib inline"
   ]
  },
  {
   "cell_type": "code",
   "execution_count": 127,
   "metadata": {
    "collapsed": true
   },
   "outputs": [],
   "source": [
    "from sklearn.model_selection import train_test_split\n",
    "from sklearn.model_selection import KFold\n",
    "from sklearn.model_selection import cross_val_score\n",
    "from sklearn.model_selection import GridSearchCV"
   ]
  },
  {
   "cell_type": "code",
   "execution_count": 128,
   "metadata": {
    "collapsed": true
   },
   "outputs": [],
   "source": [
    "from sklearn.feature_extraction.text import CountVectorizer\n",
    "from sklearn.feature_extraction.text import TfidfVectorizer, TfidfTransformer"
   ]
  },
  {
   "cell_type": "code",
   "execution_count": 129,
   "metadata": {
    "collapsed": true
   },
   "outputs": [],
   "source": [
    "from sklearn.metrics import accuracy_score, confusion_matrix, classification_report"
   ]
  },
  {
   "cell_type": "code",
   "execution_count": 130,
   "metadata": {
    "collapsed": true
   },
   "outputs": [],
   "source": [
    "from sklearn.pipeline import Pipeline\n",
    "from sklearn.linear_model import LogisticRegression\n",
    "from sklearn.tree import DecisionTreeClassifier\n",
    "from sklearn.neighbors import KNeighborsClassifier\n",
    "from sklearn.naive_bayes import MultinomialNB\n",
    "from sklearn.svm import SVC, LinearSVC\n",
    "from sklearn.ensemble import AdaBoostClassifier\n",
    "from sklearn.ensemble import RandomForestClassifier"
   ]
  },
  {
   "cell_type": "code",
   "execution_count": 131,
   "metadata": {
    "collapsed": true
   },
   "outputs": [],
   "source": [
    "# dataframe display options\n",
    "pd.set_option('display.max_colwidth', -1)\n",
    "pd.set_option('display.max_rows', 200)"
   ]
  },
  {
   "cell_type": "markdown",
   "metadata": {
    "slideshow": {
     "slide_type": "slide"
    }
   },
   "source": [
    "# Problem Definition\n",
    "<img src='form2.png'>"
   ]
  },
  {
   "cell_type": "markdown",
   "metadata": {},
   "source": [
    "> The Objective of the project is to use Natural Language Processing on two fields entered by the user (\"event title\" and \"additional info\") to guide the user into selecting the correct category.\n",
    "+ **\"Event type\" (category)** is a key field used by the company to match events and the capabilities of their pool of photographers."
   ]
  },
  {
   "cell_type": "markdown",
   "metadata": {
    "slideshow": {
     "slide_type": "slide"
    }
   },
   "source": [
    "# Problem Definition\n",
    "\n",
    "Classification task: Predicting discrete-valued quantity $y$\n",
    "+ Multi-class $ y \\in \\{1,2,3 \\ldots k\\}$ \n",
    "\n",
    "\n",
    "# Data Acquisition\n",
    "\n",
    "<img src='data.png'>"
   ]
  },
  {
   "cell_type": "markdown",
   "metadata": {},
   "source": [
    "In order to validate the possibility of a project I scraped information on 100 events. Links to the events were provided by the company."
   ]
  },
  {
   "cell_type": "code",
   "execution_count": 699,
   "metadata": {
    "collapsed": true
   },
   "outputs": [],
   "source": [
    "def search_titles(df, expression):\n",
    "    categories = df[df['category'].str.contains(expression, regex=True) == True]['category']\n",
    "    idxs = df[df['category'].str.contains(expression, regex=True) == True].index\n",
    "    print(categories)\n",
    "    return idxs\n",
    "\n",
    "def update_category(df, indices, category_title):\n",
    "    for i in indices:\n",
    "        df.loc[i, 'category'] = category_title"
   ]
  },
  {
   "cell_type": "code",
   "execution_count": 702,
   "metadata": {
    "collapsed": false
   },
   "outputs": [
    {
     "name": "stdout",
     "output_type": "stream",
     "text": [
      "Series([], Name: category, dtype: object)\n"
     ]
    }
   ],
   "source": [
    "b = search_titles(g, r'baptism')"
   ]
  },
  {
   "cell_type": "code",
   "execution_count": 125,
   "metadata": {
    "collapsed": true
   },
   "outputs": [],
   "source": [
    "update_category(g, b, 'life celebration')"
   ]
  },
  {
   "cell_type": "markdown",
   "metadata": {},
   "source": [
    "## After Categories were regrouped"
   ]
  },
  {
   "cell_type": "code",
   "execution_count": 150,
   "metadata": {
    "collapsed": false,
    "slideshow": {
     "slide_type": "slide"
    }
   },
   "outputs": [
    {
     "data": {
      "image/png": "[encoded data removed]",
      "text/plain": [
       "<matplotlib.figure.Figure at 0x121061828>"
      ]
     },
     "metadata": {},
     "output_type": "display_data"
    }
   ],
   "source": [
    "g['category'].value_counts()[:20][::-1].plot(kind='barh');\n",
    "plt.title(\"Top 20 categories\");"
   ]
  },
  {
   "cell_type": "code",
   "execution_count": 728,
   "metadata": {
    "collapsed": false
   },
   "outputs": [],
   "source": [
    "## Pickle data after cleanup\n",
    "with open('events.pickle', 'wb') as f:\n",
    "    pickle.dump(g, f)"
   ]
  },
  {
   "cell_type": "code",
   "execution_count": 201,
   "metadata": {
    "collapsed": true
   },
   "outputs": [],
   "source": [
    "reset -fs"
   ]
  },
  {
   "cell_type": "markdown",
   "metadata": {
    "collapsed": true
   },
   "source": [
    "# Loading events dataframe from pickled object"
   ]
  },
  {
   "cell_type": "code",
   "execution_count": 8,
   "metadata": {
    "collapsed": false
   },
   "outputs": [],
   "source": [
    "with open('events.pickle', 'rb') as f:\n",
    "    g = pickle.load(f) "
   ]
  },
  {
   "cell_type": "code",
   "execution_count": 9,
   "metadata": {
    "collapsed": false
   },
   "outputs": [
    {
     "name": "stdout",
     "output_type": "stream",
     "text": [
      "Number of categories: 9\n"
     ]
    }
   ],
   "source": [
    "categories = g.category.unique()\n",
    "print(\"Number of categories: {}\".format(len(categories)))"
   ]
  },
  {
   "cell_type": "code",
   "execution_count": 10,
   "metadata": {
    "collapsed": false
   },
   "outputs": [
    {
     "data": {
      "image/png": "[encoded data removed]",
      "text/plain": [
       "<matplotlib.figure.Figure at 0x1123a84e0>"
      ]
     },
     "metadata": {},
     "output_type": "display_data"
    }
   ],
   "source": [
    "g['category'].value_counts()[:20][::-1].plot(kind='barh');\n",
    "plt.title(\"Top Categories\");"
   ]
  },
  {
   "cell_type": "code",
   "execution_count": 11,
   "metadata": {
    "collapsed": false
   },
   "outputs": [
    {
     "data": {
      "text/plain": [
       "kids birthday       360\n",
       "company event       187\n",
       "private party       138\n",
       "life celebration    129\n",
       "portrait shoot      77 \n",
       "other               75 \n",
       "conference          49 \n",
       "wedding             42 \n",
       "baby shower         32 \n",
       "Name: category, dtype: int64"
      ]
     },
     "execution_count": 11,
     "metadata": {},
     "output_type": "execute_result"
    }
   ],
   "source": [
    "g['category'].value_counts()[:20]"
   ]
  },
  {
   "cell_type": "code",
   "execution_count": 12,
   "metadata": {
    "collapsed": false
   },
   "outputs": [
    {
     "data": {
      "text/html": [
       "<div>\n",
       "<table border=\"1\" class=\"dataframe\">\n",
       "  <thead>\n",
       "    <tr style=\"text-align: right;\">\n",
       "      <th></th>\n",
       "      <th>album_ptr_id</th>\n",
       "      <th>title</th>\n",
       "      <th>additional_info</th>\n",
       "      <th>category</th>\n",
       "      <th>id</th>\n",
       "    </tr>\n",
       "  </thead>\n",
       "  <tbody>\n",
       "    <tr>\n",
       "      <th>1100</th>\n",
       "      <td>560606.0</td>\n",
       "      <td>california cannabis industry association</td>\n",
       "      <td>staged photographer for a step and repeat section, then scrolling photography after that.</td>\n",
       "      <td>company event</td>\n",
       "      <td>d2651246d360450aa29f3cb58b0ef6a8</td>\n",
       "    </tr>\n",
       "    <tr>\n",
       "      <th>1101</th>\n",
       "      <td>562327.0</td>\n",
       "      <td>arian's 1st birthday</td>\n",
       "      <td>NaN</td>\n",
       "      <td>kids birthday</td>\n",
       "      <td>08a7e7a3a3294f148aeb606777a7f552</td>\n",
       "    </tr>\n",
       "    <tr>\n",
       "      <th>1102</th>\n",
       "      <td>562452.0</td>\n",
       "      <td>nikhil's first birthday</td>\n",
       "      <td>NaN</td>\n",
       "      <td>kids birthday</td>\n",
       "      <td>27d88c2e30f34e32b6a1636ee2d18d17</td>\n",
       "    </tr>\n",
       "    <tr>\n",
       "      <th>1103</th>\n",
       "      <td>562658.0</td>\n",
       "      <td>krish and ishan birthday bash</td>\n",
       "      <td>birthday party of a 2 year old and a 5 year old boys. some family portraits, solo of birthday kids, decorations, photo also with grandparents (focus on them a bit), focus on kids together too, cake cutting &amp; family portraits in front of cake, theme of birthday party is bubbles! professional bubble maker will be there and would love photos of this</td>\n",
       "      <td>kids birthday</td>\n",
       "      <td>aa03bc2d11b443978a5d40dd7eb46253</td>\n",
       "    </tr>\n",
       "    <tr>\n",
       "      <th>1104</th>\n",
       "      <td>567831.0</td>\n",
       "      <td>a to z</td>\n",
       "      <td>this is an informal reception at our apartment complex before we have a wedding. we would like to spend the first 1-2 hours on portraits of just the two of us at nice spots around our apartment complex or any other ideas you have. we would like some nice portraits. then capture a bit of the event.</td>\n",
       "      <td>life celebration</td>\n",
       "      <td>76fb502fff584f0da0e812a449bd44be</td>\n",
       "    </tr>\n",
       "  </tbody>\n",
       "</table>\n",
       "</div>"
      ],
      "text/plain": [
       "      album_ptr_id                                     title  \\\n",
       "1100  560606.0      california cannabis industry association   \n",
       "1101  562327.0      arian's 1st birthday                       \n",
       "1102  562452.0      nikhil's first birthday                    \n",
       "1103  562658.0      krish and ishan birthday bash              \n",
       "1104  567831.0      a to z                                     \n",
       "\n",
       "                                                                                                                                                                                                                                                                                                                                                   additional_info  \\\n",
       "1100  staged photographer for a step and repeat section, then scrolling photography after that.                                                                                                                                                                                                                                                                      \n",
       "1101  NaN                                                                                                                                                                                                                                                                                                                                                            \n",
       "1102  NaN                                                                                                                                                                                                                                                                                                                                                            \n",
       "1103  birthday party of a 2 year old and a 5 year old boys. some family portraits, solo of birthday kids, decorations, photo also with grandparents (focus on them a bit), focus on kids together too, cake cutting & family portraits in front of cake, theme of birthday party is bubbles! professional bubble maker will be there and would love photos of this   \n",
       "1104  this is an informal reception at our apartment complex before we have a wedding. we would like to spend the first 1-2 hours on portraits of just the two of us at nice spots around our apartment complex or any other ideas you have. we would like some nice portraits. then capture a bit of the event.                                                     \n",
       "\n",
       "              category                                id  \n",
       "1100  company event     d2651246d360450aa29f3cb58b0ef6a8  \n",
       "1101  kids birthday     08a7e7a3a3294f148aeb606777a7f552  \n",
       "1102  kids birthday     27d88c2e30f34e32b6a1636ee2d18d17  \n",
       "1103  kids birthday     aa03bc2d11b443978a5d40dd7eb46253  \n",
       "1104  life celebration  76fb502fff584f0da0e812a449bd44be  "
      ]
     },
     "execution_count": 12,
     "metadata": {},
     "output_type": "execute_result"
    }
   ],
   "source": [
    "g.tail()"
   ]
  },
  {
   "cell_type": "markdown",
   "metadata": {},
   "source": [
    "# EDA"
   ]
  },
  {
   "cell_type": "code",
   "execution_count": 13,
   "metadata": {
    "collapsed": false
   },
   "outputs": [],
   "source": [
    "length = g[['title', 'additional_info', 'category']].copy()"
   ]
  },
  {
   "cell_type": "code",
   "execution_count": 14,
   "metadata": {
    "collapsed": false
   },
   "outputs": [
    {
     "data": {
      "text/plain": [
       "'mustache movember eversnap party'"
      ]
     },
     "execution_count": 14,
     "metadata": {},
     "output_type": "execute_result"
    }
   ],
   "source": [
    "length['title'][0]"
   ]
  },
  {
   "cell_type": "markdown",
   "metadata": {},
   "source": [
    "### How many characters are in \"title\" and \"additional_info\"?"
   ]
  },
  {
   "cell_type": "code",
   "execution_count": 53,
   "metadata": {
    "collapsed": false
   },
   "outputs": [
    {
     "data": {
      "text/html": [
       "<div>\n",
       "<table border=\"1\" class=\"dataframe\">\n",
       "  <thead>\n",
       "    <tr style=\"text-align: right;\">\n",
       "      <th></th>\n",
       "      <th>title</th>\n",
       "      <th>additional_info</th>\n",
       "      <th>category</th>\n",
       "      <th>title_length</th>\n",
       "    </tr>\n",
       "  </thead>\n",
       "  <tbody>\n",
       "    <tr>\n",
       "      <th>0</th>\n",
       "      <td>mustache movember eversnap party</td>\n",
       "      <td>step and repeat banner shots plus party photos</td>\n",
       "      <td>private party</td>\n",
       "      <td>32</td>\n",
       "    </tr>\n",
       "    <tr>\n",
       "      <th>1</th>\n",
       "      <td>shilpi's baby shower</td>\n",
       "      <td>NaN</td>\n",
       "      <td>other</td>\n",
       "      <td>20</td>\n",
       "    </tr>\n",
       "    <tr>\n",
       "      <th>2</th>\n",
       "      <td>caleb's cat in the hat\" 1st birthday at superf...</td>\n",
       "      <td>NaN</td>\n",
       "      <td>kids birthday</td>\n",
       "      <td>53</td>\n",
       "    </tr>\n",
       "    <tr>\n",
       "      <th>3</th>\n",
       "      <td>michele's bridal shower</td>\n",
       "      <td>this is the club house at sorrento, dublin ran...</td>\n",
       "      <td>life celebration</td>\n",
       "      <td>23</td>\n",
       "    </tr>\n",
       "    <tr>\n",
       "      <th>4</th>\n",
       "      <td>vihaan 1st birthday party</td>\n",
       "      <td>we would also like the photographer to take ca...</td>\n",
       "      <td>kids birthday</td>\n",
       "      <td>25</td>\n",
       "    </tr>\n",
       "  </tbody>\n",
       "</table>\n",
       "</div>"
      ],
      "text/plain": [
       "                                               title  \\\n",
       "0                   mustache movember eversnap party   \n",
       "1                               shilpi's baby shower   \n",
       "2  caleb's cat in the hat\" 1st birthday at superf...   \n",
       "3                            michele's bridal shower   \n",
       "4                          vihaan 1st birthday party   \n",
       "\n",
       "                                     additional_info          category  \\\n",
       "0     step and repeat banner shots plus party photos     private party   \n",
       "1                                                NaN             other   \n",
       "2                                                NaN     kids birthday   \n",
       "3  this is the club house at sorrento, dublin ran...  life celebration   \n",
       "4  we would also like the photographer to take ca...     kids birthday   \n",
       "\n",
       "   title_length  \n",
       "0            32  \n",
       "1            20  \n",
       "2            53  \n",
       "3            23  \n",
       "4            25  "
      ]
     },
     "execution_count": 53,
     "metadata": {},
     "output_type": "execute_result"
    }
   ],
   "source": [
    "length['title_length'] = length['title'].map(lambda text: len(str(text)))\n",
    "length.head()"
   ]
  },
  {
   "cell_type": "code",
   "execution_count": 54,
   "metadata": {
    "collapsed": false
   },
   "outputs": [
    {
     "data": {
      "text/html": [
       "<div>\n",
       "<table border=\"1\" class=\"dataframe\">\n",
       "  <thead>\n",
       "    <tr style=\"text-align: right;\">\n",
       "      <th></th>\n",
       "      <th>title</th>\n",
       "      <th>additional_info</th>\n",
       "      <th>category</th>\n",
       "      <th>title_length</th>\n",
       "      <th>additional_info_length</th>\n",
       "    </tr>\n",
       "  </thead>\n",
       "  <tbody>\n",
       "    <tr>\n",
       "      <th>0</th>\n",
       "      <td>mustache movember eversnap party</td>\n",
       "      <td>step and repeat banner shots plus party photos</td>\n",
       "      <td>private party</td>\n",
       "      <td>32</td>\n",
       "      <td>46</td>\n",
       "    </tr>\n",
       "    <tr>\n",
       "      <th>1</th>\n",
       "      <td>shilpi's baby shower</td>\n",
       "      <td>NaN</td>\n",
       "      <td>other</td>\n",
       "      <td>20</td>\n",
       "      <td>3</td>\n",
       "    </tr>\n",
       "    <tr>\n",
       "      <th>2</th>\n",
       "      <td>caleb's cat in the hat\" 1st birthday at superf...</td>\n",
       "      <td>NaN</td>\n",
       "      <td>kids birthday</td>\n",
       "      <td>53</td>\n",
       "      <td>3</td>\n",
       "    </tr>\n",
       "    <tr>\n",
       "      <th>3</th>\n",
       "      <td>michele's bridal shower</td>\n",
       "      <td>this is the club house at sorrento, dublin ran...</td>\n",
       "      <td>life celebration</td>\n",
       "      <td>23</td>\n",
       "      <td>81</td>\n",
       "    </tr>\n",
       "    <tr>\n",
       "      <th>4</th>\n",
       "      <td>vihaan 1st birthday party</td>\n",
       "      <td>we would also like the photographer to take ca...</td>\n",
       "      <td>kids birthday</td>\n",
       "      <td>25</td>\n",
       "      <td>130</td>\n",
       "    </tr>\n",
       "  </tbody>\n",
       "</table>\n",
       "</div>"
      ],
      "text/plain": [
       "                                               title  \\\n",
       "0                   mustache movember eversnap party   \n",
       "1                               shilpi's baby shower   \n",
       "2  caleb's cat in the hat\" 1st birthday at superf...   \n",
       "3                            michele's bridal shower   \n",
       "4                          vihaan 1st birthday party   \n",
       "\n",
       "                                     additional_info          category  \\\n",
       "0     step and repeat banner shots plus party photos     private party   \n",
       "1                                                NaN             other   \n",
       "2                                                NaN     kids birthday   \n",
       "3  this is the club house at sorrento, dublin ran...  life celebration   \n",
       "4  we would also like the photographer to take ca...     kids birthday   \n",
       "\n",
       "   title_length  additional_info_length  \n",
       "0            32                      46  \n",
       "1            20                       3  \n",
       "2            53                       3  \n",
       "3            23                      81  \n",
       "4            25                     130  "
      ]
     },
     "execution_count": 54,
     "metadata": {},
     "output_type": "execute_result"
    }
   ],
   "source": [
    "length['additional_info_length'] = length['additional_info'].map(lambda text: len(str(text)))\n",
    "length.head()"
   ]
  },
  {
   "cell_type": "code",
   "execution_count": 55,
   "metadata": {
    "collapsed": false
   },
   "outputs": [
    {
     "data": {
      "image/png": "[encoded data removed]",
      "text/plain": [
       "<matplotlib.figure.Figure at 0x1189cbe80>"
      ]
     },
     "metadata": {},
     "output_type": "display_data"
    }
   ],
   "source": [
    "length.title_length.plot(bins=20, kind='hist');\n",
    "plt.title(\"Title - Character length\");"
   ]
  },
  {
   "cell_type": "code",
   "execution_count": 56,
   "metadata": {
    "collapsed": false
   },
   "outputs": [
    {
     "data": {
      "image/png": "[encoded data removed]",
      "text/plain": [
       "<matplotlib.figure.Figure at 0x1860559e8>"
      ]
     },
     "metadata": {},
     "output_type": "display_data"
    }
   ],
   "source": [
    "length.additional_info_length.plot(bins=15, kind='hist');\n",
    "plt.title(\"Additional Info - Character length\");"
   ]
  },
  {
   "cell_type": "markdown",
   "metadata": {},
   "source": [
    "> We can see that \"additional info\" is an optional field and that overall length of each of the samples is small."
   ]
  },
  {
   "cell_type": "code",
   "execution_count": 57,
   "metadata": {
    "collapsed": false
   },
   "outputs": [
    {
     "data": {
      "image/png": "[encoded data removed]",
      "text/plain": [
       "<matplotlib.figure.Figure at 0x1860a6f28>"
      ]
     },
     "metadata": {},
     "output_type": "display_data"
    }
   ],
   "source": [
    "length[length[\"category\"] == 'kids birthday'][\"title_length\"].plot(bins=20, kind='hist');\n",
    "plt.title(\"KIDS BIRTHDAY - Title - Character length\");"
   ]
  },
  {
   "cell_type": "markdown",
   "metadata": {},
   "source": [
    "# Preparing Dataset"
   ]
  },
  {
   "cell_type": "code",
   "execution_count": 16,
   "metadata": {
    "collapsed": false
   },
   "outputs": [],
   "source": [
    "def prepare_data(df):\n",
    "    y = df.category\n",
    "    X = df[['title', 'additional_info']].values \n",
    "    print(\"X:\", X.shape, \" y:\", y.shape)\n",
    "    return X,y"
   ]
  },
  {
   "cell_type": "code",
   "execution_count": 17,
   "metadata": {
    "collapsed": false
   },
   "outputs": [
    {
     "name": "stdout",
     "output_type": "stream",
     "text": [
      "X: (1089, 2)  y: (1089,)\n"
     ]
    }
   ],
   "source": [
    "X, y = prepare_data(g)"
   ]
  },
  {
   "cell_type": "code",
   "execution_count": 18,
   "metadata": {
    "collapsed": false
   },
   "outputs": [],
   "source": [
    "def join_columns(X):\n",
    "    X_joined = []\n",
    "    for x in X:\n",
    "        X_joined.append(str(x[0]) + str(\" - \") + str(x[1]))\n",
    "    return np.array(X_joined).reshape(-1, 1)"
   ]
  },
  {
   "cell_type": "code",
   "execution_count": 19,
   "metadata": {
    "collapsed": false
   },
   "outputs": [],
   "source": [
    "def correct_type(X):\n",
    "    X_corrected = []\n",
    "    for x in X:\n",
    "        if x == np.nan:\n",
    "            X_corrected.append(\"None\")\n",
    "        else:\n",
    "            X_corrected.append(str(x))\n",
    "    return np.array(X_corrected).reshape(-1, 1)"
   ]
  },
  {
   "cell_type": "code",
   "execution_count": 20,
   "metadata": {
    "collapsed": false
   },
   "outputs": [
    {
     "name": "stdout",
     "output_type": "stream",
     "text": [
      "(1089, 1) (1089, 1) (1089, 1)\n"
     ]
    }
   ],
   "source": [
    "X_title = correct_type(X[:,0])\n",
    "X_additional = correct_type(X[:,1])\n",
    "X_joined = join_columns(X)\n",
    "print(X_joined.shape, X_title.shape, X_additional.shape)"
   ]
  },
  {
   "cell_type": "code",
   "execution_count": 21,
   "metadata": {
    "collapsed": false
   },
   "outputs": [
    {
     "data": {
      "text/plain": [
       "'vihaan 1st birthday party - we would also like the photographer to take candid shots, use flash lighting and would require amazing snaps to keep for memories.'"
      ]
     },
     "execution_count": 21,
     "metadata": {},
     "output_type": "execute_result"
    }
   ],
   "source": [
    "X_joined[4][0]"
   ]
  },
  {
   "cell_type": "code",
   "execution_count": 22,
   "metadata": {
    "collapsed": false
   },
   "outputs": [
    {
     "data": {
      "text/plain": [
       "'vihaan 1st birthday party'"
      ]
     },
     "execution_count": 22,
     "metadata": {},
     "output_type": "execute_result"
    }
   ],
   "source": [
    "X_title[4][0]"
   ]
  },
  {
   "cell_type": "code",
   "execution_count": 23,
   "metadata": {
    "collapsed": false
   },
   "outputs": [
    {
     "data": {
      "text/plain": [
       "'we would also like the photographer to take candid shots, use flash lighting and would require amazing snaps to keep for memories.'"
      ]
     },
     "execution_count": 23,
     "metadata": {},
     "output_type": "execute_result"
    }
   ],
   "source": [
    "X_additional[4][0]"
   ]
  },
  {
   "cell_type": "markdown",
   "metadata": {},
   "source": [
    "### Split dataset into train and test"
   ]
  },
  {
   "cell_type": "markdown",
   "metadata": {},
   "source": [
    "I have three sets of data:\n",
    "+ Set 1: combination of title and additional information\n",
    "+ Set 2: title\n",
    "+ Set 3: additional information"
   ]
  },
  {
   "cell_type": "code",
   "execution_count": 24,
   "metadata": {
    "collapsed": false
   },
   "outputs": [],
   "source": [
    "X_train, X_test, y_train, y_test = train_test_split(X_joined, y, test_size=0.3, stratify=y)\n",
    "X_train2, X_test2, y_train2, y_test2 = train_test_split(X_title, y, test_size=0.3, stratify=y)\n",
    "X_train3, X_test3, y_train3, y_test3 = train_test_split(X_additional, y, test_size=0.3, stratify=y)"
   ]
  },
  {
   "cell_type": "code",
   "execution_count": 25,
   "metadata": {
    "collapsed": false
   },
   "outputs": [
    {
     "name": "stdout",
     "output_type": "stream",
     "text": [
      "(762, 1) (327, 1) (762,) (327,)\n"
     ]
    }
   ],
   "source": [
    "print(X_train.shape, X_test.shape, y_train.shape, y_test.shape)"
   ]
  },
  {
   "cell_type": "markdown",
   "metadata": {},
   "source": [
    "# Normalization: Stemming vs Lemmatization "
   ]
  },
  {
   "cell_type": "code",
   "execution_count": 27,
   "metadata": {
    "collapsed": true
   },
   "outputs": [],
   "source": [
    "# Spacy for tokenization and lemmatization\n",
    "en_nlp = spacy.load('en')"
   ]
  },
  {
   "cell_type": "code",
   "execution_count": 28,
   "metadata": {
    "collapsed": false
   },
   "outputs": [],
   "source": [
    "# List of NLTK stemmers to the tested \n",
    "snowball = nltk.stem.SnowballStemmer(\"english\")\n",
    "lancaster = nltk.stem.LancasterStemmer()\n",
    "porter = nltk.stem.PorterStemmer()"
   ]
  },
  {
   "cell_type": "code",
   "execution_count": 29,
   "metadata": {
    "collapsed": true
   },
   "outputs": [],
   "source": [
    "def compare_normalization(doc):\n",
    "    # tokenize document in spacy\n",
    "    doc_spacy = en_nlp(doc)\n",
    "    # Lemmatization\n",
    "    print(\"Lemmatization:\")\n",
    "    print([token.lemma_ for token in doc_spacy])\n",
    "    # print tokens found by Porter stemmer\n",
    "    print(\"Porter:\")\n",
    "    print([porter.stem(token.norm_.lower()) for token in doc_spacy])\n",
    "    print(\"snowball:\")\n",
    "    print([snowball.stem(token.norm_.lower()) for token in doc_spacy])    \n",
    "    print(\"lancaster:\")\n",
    "    print([lancaster.stem(token.norm_.lower()) for token in doc_spacy])    "
   ]
  },
  {
   "cell_type": "code",
   "execution_count": 30,
   "metadata": {
    "collapsed": false
   },
   "outputs": [
    {
     "name": "stdout",
     "output_type": "stream",
     "text": [
      "Lemmatization:\n",
      "['this', 'be', 'an', 'informal', 'reception', 'at', 'our', 'apartment', 'complex', 'before', 'we', 'have', 'a', 'wedding', '.', 'we', 'would', 'like', 'to', 'spend', 'the', 'first', '1', '-', '2', 'hour', 'on', 'portrait', 'of', 'just', 'the', 'two', 'of', 'us', 'at', 'nice', 'spot', 'around', 'our', 'apartment', 'complex', 'or', 'any', 'other', 'idea', 'you', 'have', '.', 'we', 'would', 'like', 'some', 'nice', 'portrait', '.', 'then', 'capture', 'a', 'bit', 'of', 'the', 'event', '.']\n",
      "Porter:\n",
      "['thi', 'is', 'an', 'inform', 'recept', 'at', 'our', 'apart', 'complex', 'befor', 'we', 'have', 'a', 'wed', '.', 'we', 'would', 'like', 'to', 'spend', 'the', 'first', '1', '-', '2', 'hour', 'on', 'portrait', 'of', 'just', 'the', 'two', 'of', 'us', 'at', 'nice', 'spot', 'around', 'our', 'apart', 'complex', 'or', 'ani', 'other', 'idea', 'you', 'have', '.', 'we', 'would', 'like', 'some', 'nice', 'portrait', '.', 'then', 'captur', 'a', 'bit', 'of', 'the', 'event', '.']\n",
      "snowball:\n",
      "['this', 'is', 'an', 'inform', 'recept', 'at', 'our', 'apart', 'complex', 'befor', 'we', 'have', 'a', 'wed', '.', 'we', 'would', 'like', 'to', 'spend', 'the', 'first', '1', '-', '2', 'hour', 'on', 'portrait', 'of', 'just', 'the', 'two', 'of', 'us', 'at', 'nice', 'spot', 'around', 'our', 'apart', 'complex', 'or', 'ani', 'other', 'idea', 'you', 'have', '.', 'we', 'would', 'like', 'some', 'nice', 'portrait', '.', 'then', 'captur', 'a', 'bit', 'of', 'the', 'event', '.']\n",
      "lancaster:\n",
      "['thi', 'is', 'an', 'inform', 'receiv', 'at', 'our', 'apart', 'complex', 'bef', 'we', 'hav', 'a', 'wed', '.', 'we', 'would', 'lik', 'to', 'spend', 'the', 'first', '1', '-', '2', 'hour', 'on', 'portrait', 'of', 'just', 'the', 'two', 'of', 'us', 'at', 'nic', 'spot', 'around', 'our', 'apart', 'complex', 'or', 'any', 'oth', 'idea', 'you', 'hav', '.', 'we', 'would', 'lik', 'som', 'nic', 'portrait', '.', 'then', 'capt', 'a', 'bit', 'of', 'the', 'ev', '.']\n"
     ]
    }
   ],
   "source": [
    "compare_normalization(u\"this is an informal reception at our apartment complex before we have a wedding. we would like to spend the first 1-2 hours on portraits of just the two of us at nice spots around our apartment complex or any other ideas you have. we would like some nice portraits. then capture a bit of the event.\")"
   ]
  },
  {
   "cell_type": "code",
   "execution_count": 31,
   "metadata": {
    "collapsed": false
   },
   "outputs": [
    {
     "name": "stdout",
     "output_type": "stream",
     "text": [
      "Lemmatization:\n",
      "['i', 'would', 'like', 'to', 'have', 'the', 'photographer', 'take', 'a', 'lot', 'of', 'pic', 'of', 'the', 'president', '(', 'rakesh', 'kumar', ')', 'mingle', 'with', 'the', 'guest', '.', 'also', ',', 'individualized', 'couple', 'and', 'family', 'pic', 'by', 'the', 'fireplace', '.', 'i', 'would', 'like', 'photo', 'of', 'decoration', ',', 'dessert', ',', 'display', 'etc', '.', 'i', 'can', 'give', 'more', 'direction', 'once', 'i', 'meet', 'with', 'the', 'photographer', '.']\n",
      "Porter:\n",
      "['i', 'would', 'like', 'to', 'have', 'the', 'photograph', 'take', 'a', 'lot', 'of', 'pic', 'of', 'the', 'presid', '(', 'rakesh', 'kumar', ')', 'mingl', 'with', 'the', 'guest', '.', 'also', ',', 'individu', 'coupl', 'and', 'famili', 'pic', 'by', 'the', 'fireplac', '.', 'i', 'would', 'like', 'photo', 'of', 'decor', ',', 'dessert', ',', 'display', 'etc', '.', 'i', 'can', 'give', 'more', 'direct', 'onc', 'i', 'meet', 'with', 'the', 'photograph', '.']\n",
      "snowball:\n",
      "['i', 'would', 'like', 'to', 'have', 'the', 'photograph', 'take', 'a', 'lot', 'of', 'pic', 'of', 'the', 'presid', '(', 'rakesh', 'kumar', ')', 'mingl', 'with', 'the', 'guest', '.', 'also', ',', 'individu', 'coupl', 'and', 'famili', 'pic', 'by', 'the', 'fireplac', '.', 'i', 'would', 'like', 'photo', 'of', 'decor', ',', 'dessert', ',', 'display', 'etc', '.', 'i', 'can', 'give', 'more', 'direct', 'onc', 'i', 'meet', 'with', 'the', 'photograph', '.']\n",
      "lancaster:\n",
      "['i', 'would', 'lik', 'to', 'hav', 'the', 'photograph', 'tak', 'a', 'lot', 'of', 'pic', 'of', 'the', 'presid', '(', 'rakesh', 'kum', ')', 'mingl', 'with', 'the', 'guest', '.', 'also', ',', 'individ', 'coupl', 'and', 'famy', 'pic', 'by', 'the', 'fireplac', '.', 'i', 'would', 'lik', 'photo', 'of', 'dec', ',', 'dessert', ',', 'display', 'etc', '.', 'i', 'can', 'giv', 'mor', 'direct', 'ont', 'i', 'meet', 'with', 'the', 'photograph', '.']\n"
     ]
    }
   ],
   "source": [
    "compare_normalization(u\"i would like to have the photographer take a lot of pics of the president (rakesh kumar) mingling with the guests. also, individualized couples and family pics by the fireplace. i would like photos of decorations, desserts, displays etc. i can give more direction once i meet with the photographer.\")"
   ]
  },
  {
   "cell_type": "markdown",
   "metadata": {},
   "source": [
    "> Lemmatization seem to mantain keywords in context. I will use lemmatization on the vectorizers"
   ]
  },
  {
   "cell_type": "code",
   "execution_count": 33,
   "metadata": {
    "collapsed": true
   },
   "outputs": [],
   "source": [
    "import re\n",
    "regexp = re.compile('(?u)\\\\b\\\\w\\\\w+\\\\b') # regexp used in CountVectorizer"
   ]
  },
  {
   "cell_type": "code",
   "execution_count": 34,
   "metadata": {
    "collapsed": false
   },
   "outputs": [],
   "source": [
    "old_tokenizer = en_nlp.tokenizer\n",
    "# replacing the tokenizer\n",
    "en_nlp.tokenizer = lambda string: old_tokenizer.tokens_from_list(regexp.findall(string))"
   ]
  },
  {
   "cell_type": "code",
   "execution_count": 35,
   "metadata": {
    "collapsed": false
   },
   "outputs": [],
   "source": [
    "def custom_tokenizer(document):\n",
    "    doc_spacy = en_nlp(document, entity=False, parse=False) \n",
    "    return [token.lemma_ for token in doc_spacy]"
   ]
  },
  {
   "cell_type": "markdown",
   "metadata": {},
   "source": [
    "### Stop words"
   ]
  },
  {
   "cell_type": "markdown",
   "metadata": {},
   "source": [
    "I used the stop words during the cleanup process"
   ]
  },
  {
   "cell_type": "code",
   "execution_count": 36,
   "metadata": {
    "collapsed": true
   },
   "outputs": [],
   "source": [
    "from sklearn.feature_extraction import text "
   ]
  },
  {
   "cell_type": "code",
   "execution_count": 37,
   "metadata": {
    "collapsed": true
   },
   "outputs": [],
   "source": [
    "my_additional_stop_words = [\"nan\", \"test\", \"fdghjkl\", \"test2\", \"dddfgb2v\", \"etc\"]"
   ]
  },
  {
   "cell_type": "code",
   "execution_count": 38,
   "metadata": {
    "collapsed": false
   },
   "outputs": [],
   "source": [
    "s_words = text.ENGLISH_STOP_WORDS.union(my_additional_stop_words)"
   ]
  },
  {
   "cell_type": "markdown",
   "metadata": {},
   "source": [
    "# Vectorizers"
   ]
  },
  {
   "cell_type": "markdown",
   "metadata": {},
   "source": [
    "### Count Vectorizer"
   ]
  },
  {
   "cell_type": "code",
   "execution_count": 39,
   "metadata": {
    "collapsed": false
   },
   "outputs": [],
   "source": [
    "count_vect = CountVectorizer(analyzer=u'word', tokenizer=custom_tokenizer, stop_words=s_words, ngram_range=(1,2), min_df=3)"
   ]
  },
  {
   "cell_type": "code",
   "execution_count": 40,
   "metadata": {
    "collapsed": false
   },
   "outputs": [
    {
     "name": "stdout",
     "output_type": "stream",
     "text": [
      "(762, 1099) (327, 1099) Vocabulary size:  1099\n"
     ]
    }
   ],
   "source": [
    "X_train_counts = count_vect.fit_transform(X_train.ravel())\n",
    "X_test_counts = count_vect.transform(X_test.ravel())\n",
    "print(X_train_counts.shape, X_test_counts.shape, \"Vocabulary size: \", len(count_vect.vocabulary_))"
   ]
  },
  {
   "cell_type": "markdown",
   "metadata": {},
   "source": [
    "### Binary Count Vectorizer"
   ]
  },
  {
   "cell_type": "code",
   "execution_count": 41,
   "metadata": {
    "collapsed": false
   },
   "outputs": [],
   "source": [
    "count_vect_bin = CountVectorizer(analyzer=u'word', tokenizer=custom_tokenizer, binary=True, stop_words=s_words, ngram_range=(1,2), min_df=3)"
   ]
  },
  {
   "cell_type": "code",
   "execution_count": 42,
   "metadata": {
    "collapsed": false
   },
   "outputs": [
    {
     "name": "stdout",
     "output_type": "stream",
     "text": [
      "(762, 1099) (327, 1099) Vocabulary size:  1099\n"
     ]
    }
   ],
   "source": [
    "X_train_counts_bin = count_vect_bin.fit_transform(X_train.ravel())\n",
    "X_test_counts_bin = count_vect_bin.transform(X_test.ravel())\n",
    "print(X_train_counts_bin.shape, X_test_counts_bin.shape, \"Vocabulary size: \", len(count_vect_bin.vocabulary_))"
   ]
  },
  {
   "cell_type": "markdown",
   "metadata": {},
   "source": [
    "### Term Frequency Vectorizer"
   ]
  },
  {
   "cell_type": "code",
   "execution_count": 43,
   "metadata": {
    "collapsed": false
   },
   "outputs": [
    {
     "name": "stdout",
     "output_type": "stream",
     "text": [
      "(762, 1099) (327, 1099)\n"
     ]
    }
   ],
   "source": [
    "tf = TfidfTransformer(use_idf=False)\n",
    "X_train_tf = tf.fit_transform(X_train_counts)\n",
    "X_test_tf = tf.transform(X_test_counts)\n",
    "print(X_train_tf.shape, X_test_tf.shape)"
   ]
  },
  {
   "cell_type": "markdown",
   "metadata": {},
   "source": [
    "### Tf-idf Vectorizer"
   ]
  },
  {
   "cell_type": "markdown",
   "metadata": {},
   "source": [
    "An even more effective way to vectorize text data is by using Tfidf. In brief, you can multiply the term frequency of the words that compose a document by the inverse document frequency of the word itself (that is, in the number of documents it appears, if logarithmically scaled). This is very handy to highlight words that effectively describe each document, and is a powerful discriminative element among the dataset."
   ]
  },
  {
   "cell_type": "code",
   "execution_count": 44,
   "metadata": {
    "collapsed": false
   },
   "outputs": [],
   "source": [
    "tf_idf = TfidfVectorizer(tokenizer=custom_tokenizer, stop_words=s_words, ngram_range=(1,2), min_df=3)"
   ]
  },
  {
   "cell_type": "code",
   "execution_count": 45,
   "metadata": {
    "collapsed": false
   },
   "outputs": [
    {
     "name": "stdout",
     "output_type": "stream",
     "text": [
      "(762, 1099) (327, 1099) Vocabulary size:  1099\n"
     ]
    }
   ],
   "source": [
    "X_train_tfidf = tf_idf.fit_transform(X_train.ravel())\n",
    "X_test_tfidf = tf_idf.transform(X_test.ravel())\n",
    "print(X_train_tfidf.shape, X_test_tfidf.shape, \"Vocabulary size: \", len(tf_idf.vocabulary_))"
   ]
  },
  {
   "cell_type": "markdown",
   "metadata": {},
   "source": [
    "# Very short texts are likely to have noisy tf–idf values while the binary occurrence info is more stable."
   ]
  },
  {
   "cell_type": "markdown",
   "metadata": {},
   "source": [
    "# Building Baseline model"
   ]
  },
  {
   "cell_type": "markdown",
   "metadata": {},
   "source": [
    "According to Sklearn documentation:\n",
    "> Inherently multiclass: Naive Bayes, Decision Trees, Random Forests, Nearest Neighbors,  LogisticRegression ('multinomial')"
   ]
  },
  {
   "cell_type": "code",
   "execution_count": 47,
   "metadata": {
    "collapsed": false
   },
   "outputs": [],
   "source": [
    "#Baseline models:\n",
    "models = []\n",
    "models.append(('MNB', MultinomialNB()))\n",
    "models.append(('CART', DecisionTreeClassifier())) \n",
    "models.append(('KNN', KNeighborsClassifier())) \n",
    "models.append(('LR', LogisticRegression(multi_class='multinomial', solver='newton-cg'))) \n",
    "models.append(('SVM', LinearSVC())) "
   ]
  },
  {
   "cell_type": "code",
   "execution_count": 48,
   "metadata": {
    "collapsed": true
   },
   "outputs": [],
   "source": [
    "# Test options and evaluation metric\n",
    "num_folds = 5\n",
    "seed = 7\n",
    "scoring = 'accuracy'"
   ]
  },
  {
   "cell_type": "code",
   "execution_count": 49,
   "metadata": {
    "collapsed": true
   },
   "outputs": [],
   "source": [
    "def compute_baseline(models, X_train_counts, y_train, num_folds, scoring):\n",
    "    results = []\n",
    "    names = []\n",
    "    for name, model in models:\n",
    "        kfold = KFold(n_splits=num_folds, random_state=seed)\n",
    "        cv_results = cross_val_score(model, X_train_counts, y_train, cv=kfold, scoring=scoring)\n",
    "        results.append(cv_results)\n",
    "        names.append(name)\n",
    "        print(\"[{}] \\t{:.3f} ({:.3f})\".format(name, cv_results.mean(), cv_results.std()))\n",
    "\n",
    "    return names, results"
   ]
  },
  {
   "cell_type": "code",
   "execution_count": 50,
   "metadata": {
    "collapsed": true
   },
   "outputs": [],
   "source": [
    "def plot_baseline(names, results, classes=9, order=True, guess=True):\n",
    "    #sorting prior to plotting\n",
    "    if order == True:\n",
    "        rm = np.median(results, axis=1)\n",
    "        idxs = np.argsort(rm)[::-1]\n",
    "        names = np.array(names)[idxs]\n",
    "        r = []\n",
    "        for i in idxs:\n",
    "            r.append(results[i])\n",
    "        results = r   \n",
    "    fig = plt.figure() \n",
    "    plt.title('Algorithm Comparison')\n",
    "    plt.ylabel(\"Accuracy Score\")\n",
    "    ax = fig.add_subplot(111) \n",
    "    plt.boxplot(results)\n",
    "    if guess:\n",
    "        plt.ylim(0,1)\n",
    "        plt.hlines(y=1/classes, xmin=0, xmax =10, linestyles=\"--\", label='Guessing', color='g')\n",
    "        plt.legend()\n",
    "    ax.set_xticklabels(names) \n",
    "    plt.show()"
   ]
  },
  {
   "cell_type": "code",
   "execution_count": 51,
   "metadata": {
    "collapsed": true
   },
   "outputs": [],
   "source": [
    "def evaluate_features(models, X_train_counts, y_train, num_folds, scoring, guess=True):\n",
    "    names, results = compute_baseline(models, X_train_counts, y_train, num_folds, scoring)\n",
    "    plot_baseline(names, results, order=True, classes=len(np.unique(y_train)), guess=guess)"
   ]
  },
  {
   "cell_type": "markdown",
   "metadata": {},
   "source": [
    "## Evaluating models with each of the different types of vectorizers created in the previous section"
   ]
  },
  {
   "cell_type": "code",
   "execution_count": 134,
   "metadata": {
    "collapsed": false
   },
   "outputs": [
    {
     "name": "stdout",
     "output_type": "stream",
     "text": [
      "[MNB] \t0.585 (0.061)\n",
      "[CART] \t0.566 (0.041)\n",
      "[KNN] \t0.499 (0.047)\n",
      "[LR] \t0.630 (0.046)\n",
      "[SVM] \t0.604 (0.045)\n"
     ]
    },
    {
     "data": {
      "image/png": "[encoded data removed]",
      "text/plain": [
       "<matplotlib.figure.Figure at 0x122f2f2b0>"
      ]
     },
     "metadata": {},
     "output_type": "display_data"
    }
   ],
   "source": [
    "evaluate_features(models, X_train_counts, y_train, num_folds, scoring, guess=False)"
   ]
  },
  {
   "cell_type": "markdown",
   "metadata": {},
   "source": [
    "> SVM and Logistic Regression do well with a simple count vertorizer"
   ]
  },
  {
   "cell_type": "code",
   "execution_count": 135,
   "metadata": {
    "collapsed": false
   },
   "outputs": [
    {
     "name": "stdout",
     "output_type": "stream",
     "text": [
      "[MNB] \t0.589 (0.062)\n",
      "[CART] \t0.568 (0.039)\n",
      "[KNN] \t0.507 (0.041)\n",
      "[LR] \t0.631 (0.050)\n",
      "[SVM] \t0.612 (0.045)\n"
     ]
    },
    {
     "data": {
      "image/png": "[encoded data removed]",
      "text/plain": [
       "<matplotlib.figure.Figure at 0x12adacda0>"
      ]
     },
     "metadata": {},
     "output_type": "display_data"
    }
   ],
   "source": [
    "evaluate_features(models, X_train_counts_bin, y_train, num_folds, scoring)"
   ]
  },
  {
   "cell_type": "markdown",
   "metadata": {},
   "source": [
    "## TermFrequency"
   ]
  },
  {
   "cell_type": "code",
   "execution_count": 136,
   "metadata": {
    "collapsed": false
   },
   "outputs": [
    {
     "name": "stdout",
     "output_type": "stream",
     "text": [
      "[MNB] \t0.500 (0.076)\n",
      "[CART] \t0.554 (0.026)\n",
      "[KNN] \t0.404 (0.027)\n",
      "[LR] \t0.600 (0.071)\n",
      "[SVM] \t0.631 (0.047)\n"
     ]
    },
    {
     "data": {
      "image/png": "[encoded data removed]",
      "text/plain": [
       "<matplotlib.figure.Figure at 0x120e38438>"
      ]
     },
     "metadata": {},
     "output_type": "display_data"
    }
   ],
   "source": [
    "evaluate_features(models, X_train_tf, y_train, num_folds, scoring)"
   ]
  },
  {
   "cell_type": "code",
   "execution_count": 55,
   "metadata": {
    "collapsed": false
   },
   "outputs": [
    {
     "name": "stdout",
     "output_type": "stream",
     "text": [
      "[MNB] \t0.509 (0.075)\n",
      "[CART] \t0.552 (0.027)\n",
      "[KNN] \t0.312 (0.040)\n",
      "[LR] \t0.597 (0.078)\n",
      "[SVM] \t0.619 (0.036)\n"
     ]
    },
    {
     "data": {
      "image/png": "[encoded data removed]",
      "text/plain": [
       "<matplotlib.figure.Figure at 0x1205cb748>"
      ]
     },
     "metadata": {},
     "output_type": "display_data"
    }
   ],
   "source": [
    "evaluate_features(models, X_train_tfidf, y_train, num_folds, scoring)"
   ]
  },
  {
   "cell_type": "markdown",
   "metadata": {},
   "source": [
    "> I will proceed to tune the parameters of SVM, LR and MNB"
   ]
  },
  {
   "cell_type": "markdown",
   "metadata": {},
   "source": [
    "## Emsemble methods"
   ]
  },
  {
   "cell_type": "markdown",
   "metadata": {},
   "source": [
    "> CART (Decision trees) seem to be performing OK. I am interested in seeing if Random Forest could boost that performance significantly."
   ]
  },
  {
   "cell_type": "code",
   "execution_count": 137,
   "metadata": {
    "collapsed": false
   },
   "outputs": [],
   "source": [
    "# ensembles\n",
    "ensembles = []\n",
    "ensembles.append(('AB', AdaBoostClassifier())) \n",
    "ensembles.append(('RF', RandomForestClassifier())) "
   ]
  },
  {
   "cell_type": "code",
   "execution_count": 138,
   "metadata": {
    "collapsed": false
   },
   "outputs": [
    {
     "name": "stdout",
     "output_type": "stream",
     "text": [
      "[AB] \t0.490 (0.066)\n",
      "[RF] \t0.572 (0.054)\n"
     ]
    },
    {
     "data": {
      "image/png": "[encoded data removed]",
      "text/plain": [
       "<matplotlib.figure.Figure at 0x125386f98>"
      ]
     },
     "metadata": {},
     "output_type": "display_data"
    }
   ],
   "source": [
    "evaluate_features(ensembles, X_train_counts_bin, y_train, num_folds, scoring, guess=True)"
   ]
  },
  {
   "cell_type": "code",
   "execution_count": 139,
   "metadata": {
    "collapsed": false
   },
   "outputs": [
    {
     "name": "stdout",
     "output_type": "stream",
     "text": [
      "[AB] \t0.492 (0.065)\n",
      "[RF] \t0.571 (0.066)\n"
     ]
    },
    {
     "data": {
      "image/png": "[encoded data removed]",
      "text/plain": [
       "<matplotlib.figure.Figure at 0x12add78d0>"
      ]
     },
     "metadata": {},
     "output_type": "display_data"
    }
   ],
   "source": [
    "evaluate_features(ensembles, X_train_tf, y_train, num_folds, scoring, guess=True)"
   ]
  },
  {
   "cell_type": "code",
   "execution_count": 140,
   "metadata": {
    "collapsed": false
   },
   "outputs": [
    {
     "name": "stdout",
     "output_type": "stream",
     "text": [
      "[AB] \t0.490 (0.055)\n",
      "[RF] \t0.570 (0.035)\n"
     ]
    },
    {
     "data": {
      "image/png": "[encoded data removed]",
      "text/plain": [
       "<matplotlib.figure.Figure at 0x1224619e8>"
      ]
     },
     "metadata": {},
     "output_type": "display_data"
    }
   ],
   "source": [
    "evaluate_features(ensembles, X_train_tfidf, y_train, num_folds, scoring, guess=True)"
   ]
  },
  {
   "cell_type": "markdown",
   "metadata": {},
   "source": [
    "> The improvement with default parameters is not significant. I will proceed to fine tune the models selected in the previous section."
   ]
  },
  {
   "cell_type": "markdown",
   "metadata": {},
   "source": [
    "# Grid-Searching Hyperparameters\n",
    "+ Logistic Regression\n",
    "+ Multinomial Naive Bayes\n",
    "+ Support Vector Machines\n"
   ]
  },
  {
   "cell_type": "markdown",
   "metadata": {},
   "source": [
    "## Logistic Regression"
   ]
  },
  {
   "cell_type": "code",
   "execution_count": 60,
   "metadata": {
    "collapsed": false
   },
   "outputs": [],
   "source": [
    "lr_pipe = Pipeline([('vect', CountVectorizer(tokenizer= custom_tokenizer, stop_words=s_words)),\n",
    "                    ('lr', LogisticRegression(multi_class='multinomial', solver='newton-cg'))])"
   ]
  },
  {
   "cell_type": "code",
   "execution_count": 61,
   "metadata": {
    "collapsed": false
   },
   "outputs": [],
   "source": [
    "param_grid = {'vect__binary': [True, False],\n",
    "    'vect__ngram_range': [(1,1),(1,2),(1,3)],\n",
    "              'vect__min_df': [i for i in range(1,5)],\n",
    "              'lr__C': [0.01, 0.1, 1, 10, 100],\n",
    "             'lr__class_weight':['balanced', None],}"
   ]
  },
  {
   "cell_type": "code",
   "execution_count": 62,
   "metadata": {
    "collapsed": false
   },
   "outputs": [
    {
     "name": "stdout",
     "output_type": "stream",
     "text": [
      "Fitting 5 folds for each of 240 candidates, totalling 1200 fits\n"
     ]
    },
    {
     "name": "stderr",
     "output_type": "stream",
     "text": [
      "[Parallel(n_jobs=1)]: Done 1200 out of 1200 | elapsed:  9.9min finished\n"
     ]
    },
    {
     "data": {
      "text/plain": [
       "GridSearchCV(cv=5, error_score='raise',\n",
       "       estimator=Pipeline(steps=[('vect', CountVectorizer(analyzer='word', binary=False, decode_error='strict',\n",
       "        dtype=<class 'numpy.int64'>, encoding='utf-8', input='content',\n",
       "        lowercase=True, max_df=1.0, max_features=None, min_df=1,\n",
       "        ngram_range=(1, 1), preprocessor=None,\n",
       "        stop_words=frozenset({...ty='l2', random_state=None, solver='newton-cg',\n",
       "          tol=0.0001, verbose=0, warm_start=False))]),\n",
       "       fit_params={}, iid=True, n_jobs=1,\n",
       "       param_grid={'vect__binary': [True, False], 'vect__min_df': [1, 2, 3, 4], 'lr__class_weight': ['balanced', None], 'vect__ngram_range': [(1, 1), (1, 2), (1, 3)], 'lr__C': [0.01, 0.1, 1, 10, 100]},\n",
       "       pre_dispatch='2*n_jobs', refit=True, return_train_score=True,\n",
       "       scoring='accuracy', verbose=True)"
      ]
     },
     "execution_count": 62,
     "metadata": {},
     "output_type": "execute_result"
    }
   ],
   "source": [
    "grid = GridSearchCV(lr_pipe, \n",
    "                    param_grid, \n",
    "                    cv=5,\n",
    "                    verbose=True,\n",
    "                    scoring='accuracy')\n",
    "grid.fit(X_train.ravel(), y_train)"
   ]
  },
  {
   "cell_type": "code",
   "execution_count": 68,
   "metadata": {
    "collapsed": false
   },
   "outputs": [
    {
     "name": "stdout",
     "output_type": "stream",
     "text": [
      "Best cross-validation score: 0.65\n"
     ]
    }
   ],
   "source": [
    "print(\"Best cross-validation score: {:.2f}\".format(grid.best_score_))"
   ]
  },
  {
   "cell_type": "code",
   "execution_count": 69,
   "metadata": {
    "collapsed": false
   },
   "outputs": [
    {
     "name": "stdout",
     "output_type": "stream",
     "text": [
      "{'vect__binary': True, 'vect__min_df': 1, 'vect__ngram_range': (1, 1), 'lr__class_weight': None, 'lr__C': 1}\n"
     ]
    }
   ],
   "source": [
    "print(grid.best_params_)"
   ]
  },
  {
   "cell_type": "code",
   "execution_count": 70,
   "metadata": {
    "collapsed": false
   },
   "outputs": [
    {
     "name": "stdout",
     "output_type": "stream",
     "text": [
      "Vectorization step:\n",
      "CountVectorizer(analyzer='word', binary=True, decode_error='strict',\n",
      "        dtype=<class 'numpy.int64'>, encoding='utf-8', input='content',\n",
      "        lowercase=True, max_df=1.0, max_features=None, min_df=1,\n",
      "        ngram_range=(1, 1), preprocessor=None,\n",
      "        stop_words=frozenset({'whole', 'whom', 'her', 'hence', 'one', 'seeming', 'between', 'five', 'am', 'she', 'because', 'sometimes', 'though', 'out', 'themselves', 'has', 'them', 'becoming', 'everyone', 'while', 'there', 'by', 'nobody', 'hers', 'also', 'top', 'might', 'amongst', 'three', 'often', 'fire'...', 'namely', 'formerly', 'against', 'must', 'meanwhile', 'ever', 'become', 'everywhere', 'fdghjkl'}),\n",
      "        strip_accents=None, token_pattern='(?u)\\\\b\\\\w\\\\w+\\\\b',\n",
      "        tokenizer=<function custom_tokenizer at 0x1181311e0>,\n",
      "        vocabulary=None)\n"
     ]
    }
   ],
   "source": [
    "print(\"Vectorization step:\\n{}\".format( grid.best_estimator_.named_steps[\"vect\"]))"
   ]
  },
  {
   "cell_type": "code",
   "execution_count": 71,
   "metadata": {
    "collapsed": false
   },
   "outputs": [
    {
     "name": "stdout",
     "output_type": "stream",
     "text": [
      "Logistic regression step:\n",
      "LogisticRegression(C=1, class_weight=None, dual=False, fit_intercept=True,\n",
      "          intercept_scaling=1, max_iter=100, multi_class='multinomial',\n",
      "          n_jobs=1, penalty='l2', random_state=None, solver='newton-cg',\n",
      "          tol=0.0001, verbose=0, warm_start=False)\n"
     ]
    }
   ],
   "source": [
    "print(\"Logistic regression step:\\n{}\".format( grid.best_estimator_.named_steps[\"lr\"]))"
   ]
  },
  {
   "cell_type": "code",
   "execution_count": 72,
   "metadata": {
    "collapsed": false
   },
   "outputs": [
    {
     "name": "stdout",
     "output_type": "stream",
     "text": [
      "Classification report on test set for classifier:\n",
      "                  precision    recall  f1-score   support\n",
      "\n",
      "     baby shower       0.54      0.70      0.61        10\n",
      "   company event       0.51      0.80      0.62        56\n",
      "      conference       0.62      0.53      0.57        15\n",
      "   kids birthday       0.85      0.90      0.87       108\n",
      "life celebration       0.64      0.41      0.50        39\n",
      "           other       0.50      0.41      0.45        22\n",
      "  portrait shoot       0.61      0.48      0.54        23\n",
      "   private party       0.41      0.32      0.36        41\n",
      "         wedding       0.40      0.15      0.22        13\n",
      "\n",
      "     avg / total       0.63      0.64      0.62       327\n",
      "\n"
     ]
    }
   ],
   "source": [
    "pred = grid.predict(X_test.ravel())\n",
    "print(\"Classification report on test set for classifier:\")\n",
    "print(classification_report(y_test, pred))  # target_names=news_test.target_names"
   ]
  },
  {
   "cell_type": "code",
   "execution_count": 73,
   "metadata": {
    "collapsed": false
   },
   "outputs": [
    {
     "data": {
      "text/plain": [
       "0.63608562691131498"
      ]
     },
     "execution_count": 73,
     "metadata": {},
     "output_type": "execute_result"
    }
   ],
   "source": [
    "accuracy_score(y_test, pred)"
   ]
  },
  {
   "cell_type": "markdown",
   "metadata": {},
   "source": [
    "> The accuracy on the hold-out set is 0.64%"
   ]
  },
  {
   "cell_type": "code",
   "execution_count": 74,
   "metadata": {
    "collapsed": false
   },
   "outputs": [
    {
     "name": "stdout",
     "output_type": "stream",
     "text": [
      "Confusion matrix:\n",
      "[[ 7  0  0  0  0  0  1  2  0]\n",
      " [ 0 45  5  0  1  2  1  2  0]\n",
      " [ 0  5  8  0  0  1  0  1  0]\n",
      " [ 0  6  0 97  1  0  2  2  0]\n",
      " [ 2  7  0  5 16  1  1  5  2]\n",
      " [ 1  6  0  2  1  9  2  1  0]\n",
      " [ 0  6  0  2  1  2 11  0  1]\n",
      " [ 3 13  0  7  3  2  0 13  0]\n",
      " [ 0  1  0  1  2  1  0  6  2]]\n"
     ]
    }
   ],
   "source": [
    "cm = confusion_matrix(y_test, pred)\n",
    "print(\"Confusion matrix:\")\n",
    "print(cm)"
   ]
  },
  {
   "cell_type": "code",
   "execution_count": 142,
   "metadata": {
    "collapsed": false
   },
   "outputs": [],
   "source": [
    "def plot_confusion_matrix(cm, classes,\n",
    "                          normalize=False,\n",
    "                          title='Confusion matrix',\n",
    "                          cmap=plt.cm.Blues):\n",
    "    plt.imshow(cm, interpolation='nearest', cmap=cmap)\n",
    "    plt.title(title)\n",
    "    plt.colorbar()\n",
    "    tick_marks = np.arange(len(classes))\n",
    "    plt.xticks(tick_marks, classes, rotation=90)\n",
    "    plt.yticks(tick_marks, classes)\n",
    "\n",
    "    print('Confusion matrix')\n",
    "\n",
    "    thresh = cm.max() / 2.\n",
    "    for i, j in itertools.product(range(cm.shape[0]), range(cm.shape[1])):\n",
    "        plt.text(j, i, cm[i, j],\n",
    "                 horizontalalignment=\"center\",\n",
    "                 color=\"white\" if cm[i, j] > thresh else \"black\")\n",
    "\n",
    "    plt.tight_layout()\n",
    "    plt.ylabel('True label')\n",
    "    plt.xlabel('Predicted label')"
   ]
  },
  {
   "cell_type": "code",
   "execution_count": 76,
   "metadata": {
    "collapsed": true
   },
   "outputs": [],
   "source": [
    "# Compute confusion matrix\n",
    "cnf_matrix = confusion_matrix(y_test, pred)\n",
    "np.set_printoptions(precision=2)"
   ]
  },
  {
   "cell_type": "code",
   "execution_count": 78,
   "metadata": {
    "collapsed": true
   },
   "outputs": [],
   "source": [
    "v = grid.best_estimator_.named_steps[\"vect\"]\n",
    "c = grid.best_estimator_.named_steps[\"lr\"]\n",
    "cls = grid.best_estimator_.named_steps[\"lr\"].classes_"
   ]
  },
  {
   "cell_type": "code",
   "execution_count": 79,
   "metadata": {
    "collapsed": false
   },
   "outputs": [
    {
     "name": "stdout",
     "output_type": "stream",
     "text": [
      "Confusion matrix, without normalization\n"
     ]
    },
    {
     "data": {
      "image/png": "[encoded data removed]",
      "text/plain": [
       "<matplotlib.figure.Figure at 0x121be9128>"
      ]
     },
     "metadata": {},
     "output_type": "display_data"
    }
   ],
   "source": [
    "# Plot non-normalized confusion matrix\n",
    "plt.figure()\n",
    "plot_confusion_matrix(cnf_matrix, classes=cls,\n",
    "                      title='Confusion matrix, without normalization')"
   ]
  },
  {
   "cell_type": "markdown",
   "metadata": {},
   "source": [
    "> It is worth mentioning that category \"private party\" definition overlaps with \"company event\" which confuses the model and dirrectly affects accuracy."
   ]
  },
  {
   "cell_type": "markdown",
   "metadata": {},
   "source": [
    "### Most informative features"
   ]
  },
  {
   "cell_type": "code",
   "execution_count": 80,
   "metadata": {
    "collapsed": true
   },
   "outputs": [],
   "source": [
    "def print_topk(vectorizer, clf, class_labels, n):\n",
    "    \"\"\"Prints features with the highest coefficient values, per class\"\"\"\n",
    "    feature_names = vectorizer.get_feature_names()\n",
    "    for i, class_label in enumerate(class_labels):\n",
    "        top = np.argsort(clf.coef_[i])[-n:]\n",
    "        print(\"[{}] - {}\".format(class_label,\n",
    "              \", \".join(feature_names[j] for j in top)))"
   ]
  },
  {
   "cell_type": "code",
   "execution_count": 81,
   "metadata": {
    "collapsed": false
   },
   "outputs": [
    {
     "name": "stdout",
     "output_type": "stream",
     "text": [
      "[baby shower] - mom, hall, traditional, baby, shower\n",
      "[company event] - people, shire, event, tour, holiday\n",
      "[conference] - speaker, conference, schedule, summit, 2016\n",
      "[kids birthday] - turn, bday, year, 1st, birthday\n",
      "[life celebration] - portrait, graduation, baptism, proposal, engagement\n",
      "[other] - guntupalli, 2015, nilisha, warm, prom\n",
      "[portrait shoot] - portrait, maternity, session, family, headshot\n",
      "[private party] - party, birthday, dinner, 40th, 50th\n",
      "[wedding] - enter, small, super, ceremony, wedding\n"
     ]
    }
   ],
   "source": [
    "print_topk(v, c, cls, 5)"
   ]
  },
  {
   "cell_type": "markdown",
   "metadata": {},
   "source": [
    "> I used this information to iteratively clean-up the input vectors"
   ]
  },
  {
   "cell_type": "markdown",
   "metadata": {},
   "source": [
    "## Multinomial Naive Bayes"
   ]
  },
  {
   "cell_type": "code",
   "execution_count": 143,
   "metadata": {
    "collapsed": true
   },
   "outputs": [],
   "source": [
    "mnb_pipe = Pipeline([('vect', CountVectorizer(tokenizer= custom_tokenizer, stop_words=s_words)),\n",
    "                     ('tfidf', TfidfTransformer()),\n",
    "                    ('mnb', MultinomialNB())])"
   ]
  },
  {
   "cell_type": "code",
   "execution_count": 144,
   "metadata": {
    "collapsed": true
   },
   "outputs": [],
   "source": [
    "mnb_param_grid = {'vect__binary': [True, False],\n",
    "              'vect__ngram_range': [(1,1),(1,2),(1,3)],\n",
    "              'vect__min_df': [i for i in range(1,5)],\n",
    "                  'tfidf__use_idf': [True, False],\n",
    "              'mnb__alpha': [0.01, 0.1, 0.5, 0.7, 1],\n",
    "             'mnb__fit_prior':[True, False],}"
   ]
  },
  {
   "cell_type": "code",
   "execution_count": 145,
   "metadata": {
    "collapsed": false
   },
   "outputs": [
    {
     "name": "stdout",
     "output_type": "stream",
     "text": [
      "Fitting 5 folds for each of 480 candidates, totalling 2400 fits\n"
     ]
    },
    {
     "name": "stderr",
     "output_type": "stream",
     "text": [
      "[Parallel(n_jobs=1)]: Done 2400 out of 2400 | elapsed: 13.2min finished\n"
     ]
    },
    {
     "data": {
      "text/plain": [
       "GridSearchCV(cv=5, error_score='raise',\n",
       "       estimator=Pipeline(steps=[('vect', CountVectorizer(analyzer='word', binary=False, decode_error='strict',\n",
       "        dtype=<class 'numpy.int64'>, encoding='utf-8', input='content',\n",
       "        lowercase=True, max_df=1.0, max_features=None, min_df=1,\n",
       "        ngram_range=(1, 1), preprocessor=None,\n",
       "        stop_words=frozenset({...inear_tf=False, use_idf=True)), ('mnb', MultinomialNB(alpha=1.0, class_prior=None, fit_prior=True))]),\n",
       "       fit_params={}, iid=True, n_jobs=1,\n",
       "       param_grid={'mnb__alpha': [0.01, 0.1, 0.5, 0.7, 1], 'vect__ngram_range': [(1, 1), (1, 2), (1, 3)], 'tfidf__use_idf': [True, False], 'vect__binary': [True, False], 'mnb__fit_prior': [True, False], 'vect__min_df': [1, 2, 3, 4]},\n",
       "       pre_dispatch='2*n_jobs', refit=True, return_train_score=True,\n",
       "       scoring='accuracy', verbose=True)"
      ]
     },
     "execution_count": 145,
     "metadata": {},
     "output_type": "execute_result"
    }
   ],
   "source": [
    "mnb_grid = GridSearchCV(mnb_pipe, \n",
    "                    mnb_param_grid, \n",
    "                    cv=5,\n",
    "                    verbose=True,\n",
    "                    scoring='accuracy')\n",
    "mnb_grid.fit(X_train.ravel(), y_train)"
   ]
  },
  {
   "cell_type": "code",
   "execution_count": 147,
   "metadata": {
    "collapsed": false
   },
   "outputs": [
    {
     "name": "stdout",
     "output_type": "stream",
     "text": [
      "Best cross-validation score: 0.63\n"
     ]
    }
   ],
   "source": [
    "print(\"Best cross-validation score: {:.2f}\".format(mnb_grid.best_score_))"
   ]
  },
  {
   "cell_type": "code",
   "execution_count": 148,
   "metadata": {
    "collapsed": false
   },
   "outputs": [
    {
     "name": "stdout",
     "output_type": "stream",
     "text": [
      "{'mnb__alpha': 0.5, 'vect__ngram_range': (1, 2), 'vect__binary': True, 'tfidf__use_idf': False, 'mnb__fit_prior': False, 'vect__min_df': 3}\n"
     ]
    }
   ],
   "source": [
    "print(mnb_grid.best_params_)"
   ]
  },
  {
   "cell_type": "code",
   "execution_count": 149,
   "metadata": {
    "collapsed": false
   },
   "outputs": [
    {
     "name": "stdout",
     "output_type": "stream",
     "text": [
      "Multinomial Naive Bayes step:\n",
      "MultinomialNB(alpha=0.5, class_prior=None, fit_prior=False)\n"
     ]
    }
   ],
   "source": [
    "print(\"Multinomial Naive Bayes step:\\n{}\".format( mnb_grid.best_estimator_.named_steps[\"mnb\"]))"
   ]
  },
  {
   "cell_type": "code",
   "execution_count": 150,
   "metadata": {
    "collapsed": false
   },
   "outputs": [
    {
     "name": "stdout",
     "output_type": "stream",
     "text": [
      "Classification report on test set for classifier:\n",
      "                  precision    recall  f1-score   support\n",
      "\n",
      "     baby shower       0.29      0.70      0.41        10\n",
      "   company event       0.60      0.71      0.65        56\n",
      "      conference       0.50      0.80      0.62        15\n",
      "   kids birthday       0.82      0.91      0.86       108\n",
      "life celebration       0.62      0.54      0.58        39\n",
      "           other       0.54      0.32      0.40        22\n",
      "  portrait shoot       0.57      0.57      0.57        23\n",
      "   private party       0.47      0.20      0.28        41\n",
      "         wedding       0.60      0.23      0.33        13\n",
      "\n",
      "     avg / total       0.64      0.64      0.62       327\n",
      "\n"
     ]
    }
   ],
   "source": [
    "mnb_pred = mnb_grid.predict(X_test.ravel())\n",
    "print(\"Classification report on test set for classifier:\")\n",
    "print(classification_report(y_test, mnb_pred))  # target_names=news_test.target_names"
   ]
  },
  {
   "cell_type": "code",
   "execution_count": 151,
   "metadata": {
    "collapsed": false
   },
   "outputs": [
    {
     "data": {
      "text/plain": [
       "0.63914373088685017"
      ]
     },
     "execution_count": 151,
     "metadata": {},
     "output_type": "execute_result"
    }
   ],
   "source": [
    "accuracy_score(y_test, mnb_pred)"
   ]
  },
  {
   "cell_type": "code",
   "execution_count": 152,
   "metadata": {
    "collapsed": true
   },
   "outputs": [],
   "source": [
    "# Compute confusion matrix\n",
    "mnb_cm = confusion_matrix(y_test, mnb_pred)\n",
    "np.set_printoptions(precision=2)"
   ]
  },
  {
   "cell_type": "code",
   "execution_count": 153,
   "metadata": {
    "collapsed": false
   },
   "outputs": [
    {
     "name": "stdout",
     "output_type": "stream",
     "text": [
      "Confusion matrix\n"
     ]
    },
    {
     "data": {
      "image/png": "[encoded data removed]",
      "text/plain": [
       "<matplotlib.figure.Figure at 0x123832978>"
      ]
     },
     "metadata": {},
     "output_type": "display_data"
    }
   ],
   "source": [
    "# Plot non-normalized confusion matrix\n",
    "plt.figure()\n",
    "plot_confusion_matrix(mnb_cm, classes=cls,\n",
    "                      title='Confusion matrix, without normalization')"
   ]
  },
  {
   "cell_type": "markdown",
   "metadata": {},
   "source": [
    "### Feature importance"
   ]
  },
  {
   "cell_type": "code",
   "execution_count": 155,
   "metadata": {
    "collapsed": false
   },
   "outputs": [],
   "source": [
    "v_mnb = mnb_grid.best_estimator_.named_steps[\"vect\"]\n",
    "c_mnb = mnb_grid.best_estimator_.named_steps[\"mnb\"]\n",
    "cls_mnb = mnb_grid.best_estimator_.named_steps[\"mnb\"].classes_"
   ]
  },
  {
   "cell_type": "code",
   "execution_count": 156,
   "metadata": {
    "collapsed": false
   },
   "outputs": [
    {
     "name": "stdout",
     "output_type": "stream",
     "text": [
      "[baby shower] - event, shot, shower, baby shower, baby\n",
      "[company event] - 2015, party, photo, shot, event\n",
      "[conference] - schedule, conference, shot, speaker, 2016\n",
      "[kids birthday] - birthday party, 1st birthday, 1st, party, birthday\n",
      "[life celebration] - event, shot, like, engagement, party\n",
      "[other] - event, prom, 2015, party, shot\n",
      "[portrait shoot] - session, portrait, shot, photo, family\n",
      "[private party] - family, shot, photo, birthday, party\n",
      "[wedding] - shot, photographer, photo, ceremony, wedding\n"
     ]
    }
   ],
   "source": [
    "print_topk(v_mnb, c_mnb, cls_mnb, 5)"
   ]
  },
  {
   "cell_type": "markdown",
   "metadata": {},
   "source": [
    "> There are common elements across the classes. This is a good ilustration of how **\"photo\"** or **\"shot\"** should be included in the <u>stop_word</u> list"
   ]
  },
  {
   "cell_type": "markdown",
   "metadata": {},
   "source": [
    "## Support Vector Machines"
   ]
  },
  {
   "cell_type": "code",
   "execution_count": 159,
   "metadata": {
    "collapsed": false
   },
   "outputs": [],
   "source": [
    "svm_pipe = Pipeline([('vect', CountVectorizer(tokenizer= custom_tokenizer, stop_words=s_words)),\n",
    "                     ('tfidf', TfidfTransformer()),\n",
    "                    ('svm', SVC(kernel='linear'))])"
   ]
  },
  {
   "cell_type": "code",
   "execution_count": 160,
   "metadata": {
    "collapsed": true
   },
   "outputs": [],
   "source": [
    "svm_param_grid = {'vect__binary': [True, False],\n",
    "              'vect__ngram_range': [(1,1),(1,2)],\n",
    "              'vect__min_df': [i for i in range(1,5)],\n",
    "                  'tfidf__use_idf': [True, False],\n",
    "              'svm__C': [ 0.7, 1, 10],\n",
    "             'svm__kernel':['rbf', 'linear'],\n",
    "                 'svm__class_weight': ['balanced', None]}"
   ]
  },
  {
   "cell_type": "code",
   "execution_count": 161,
   "metadata": {
    "collapsed": false
   },
   "outputs": [
    {
     "name": "stdout",
     "output_type": "stream",
     "text": [
      "Fitting 5 folds for each of 384 candidates, totalling 1920 fits\n"
     ]
    },
    {
     "name": "stderr",
     "output_type": "stream",
     "text": [
      "[Parallel(n_jobs=1)]: Done 1920 out of 1920 | elapsed: 14.1min finished\n"
     ]
    },
    {
     "data": {
      "text/plain": [
       "GridSearchCV(cv=5, error_score='raise',\n",
       "       estimator=Pipeline(steps=[('vect', CountVectorizer(analyzer='word', binary=False, decode_error='strict',\n",
       "        dtype=<class 'numpy.int64'>, encoding='utf-8', input='content',\n",
       "        lowercase=True, max_df=1.0, max_features=None, min_df=1,\n",
       "        ngram_range=(1, 1), preprocessor=None,\n",
       "        stop_words=frozenset({...,\n",
       "  max_iter=-1, probability=False, random_state=None, shrinking=True,\n",
       "  tol=0.001, verbose=False))]),\n",
       "       fit_params={}, iid=True, n_jobs=1,\n",
       "       param_grid={'svm__kernel': ['rbf', 'linear'], 'tfidf__use_idf': [True, False], 'vect__ngram_range': [(1, 1), (1, 2)], 'svm__C': [0.7, 1, 10], 'vect__binary': [True, False], 'vect__min_df': [1, 2, 3, 4], 'svm__class_weight': ['balanced', None]},\n",
       "       pre_dispatch='2*n_jobs', refit=True, return_train_score=True,\n",
       "       scoring='accuracy', verbose=True)"
      ]
     },
     "execution_count": 161,
     "metadata": {},
     "output_type": "execute_result"
    }
   ],
   "source": [
    "svm_grid = GridSearchCV(svm_pipe, \n",
    "                    svm_param_grid, \n",
    "                    cv=5,\n",
    "                    verbose=True,\n",
    "                    scoring='accuracy')\n",
    "svm_grid.fit(X_train.ravel(), y_train)"
   ]
  },
  {
   "cell_type": "code",
   "execution_count": 162,
   "metadata": {
    "collapsed": false
   },
   "outputs": [
    {
     "name": "stdout",
     "output_type": "stream",
     "text": [
      "Best cross-validation score: 0.66\n"
     ]
    }
   ],
   "source": [
    "print(\"Best cross-validation score: {:.2f}\".format(svm_grid.best_score_))"
   ]
  },
  {
   "cell_type": "code",
   "execution_count": 163,
   "metadata": {
    "collapsed": false
   },
   "outputs": [
    {
     "name": "stdout",
     "output_type": "stream",
     "text": [
      "{'svm__kernel': 'linear', 'vect__ngram_range': (1, 1), 'svm__class_weight': 'balanced', 'tfidf__use_idf': True, 'vect__binary': True, 'svm__C': 0.7, 'vect__min_df': 1}\n"
     ]
    }
   ],
   "source": [
    "print(svm_grid.best_params_)"
   ]
  },
  {
   "cell_type": "code",
   "execution_count": 164,
   "metadata": {
    "collapsed": false
   },
   "outputs": [
    {
     "name": "stdout",
     "output_type": "stream",
     "text": [
      "Support Vector Machine step:\n",
      "SVC(C=0.7, cache_size=200, class_weight='balanced', coef0=0.0,\n",
      "  decision_function_shape=None, degree=3, gamma='auto', kernel='linear',\n",
      "  max_iter=-1, probability=False, random_state=None, shrinking=True,\n",
      "  tol=0.001, verbose=False)\n"
     ]
    }
   ],
   "source": [
    "print(\"Support Vector Machine step:\\n{}\".format( svm_grid.best_estimator_.named_steps[\"svm\"]))"
   ]
  },
  {
   "cell_type": "code",
   "execution_count": 166,
   "metadata": {
    "collapsed": false
   },
   "outputs": [
    {
     "data": {
      "text/plain": [
       "0.64525993883792054"
      ]
     },
     "execution_count": 166,
     "metadata": {},
     "output_type": "execute_result"
    }
   ],
   "source": [
    "svm_pred = svm_grid.predict(X_test.ravel())\n",
    "accuracy_score(y_test, svm_pred)"
   ]
  },
  {
   "cell_type": "code",
   "execution_count": 167,
   "metadata": {
    "collapsed": false
   },
   "outputs": [
    {
     "name": "stdout",
     "output_type": "stream",
     "text": [
      "Classification report on test set for classifier:\n",
      "                  precision    recall  f1-score   support\n",
      "\n",
      "     baby shower       0.50      0.60      0.55        10\n",
      "   company event       0.50      0.73      0.59        56\n",
      "      conference       0.56      0.67      0.61        15\n",
      "   kids birthday       0.92      0.86      0.89       108\n",
      "life celebration       0.61      0.51      0.56        39\n",
      "           other       0.50      0.41      0.45        22\n",
      "  portrait shoot       0.65      0.65      0.65        23\n",
      "   private party       0.39      0.29      0.33        41\n",
      "         wedding       0.56      0.38      0.45        13\n",
      "\n",
      "     avg / total       0.65      0.65      0.64       327\n",
      "\n"
     ]
    }
   ],
   "source": [
    "print(\"Classification report on test set for classifier:\")\n",
    "print(classification_report(y_test, svm_pred))"
   ]
  },
  {
   "cell_type": "code",
   "execution_count": 175,
   "metadata": {
    "collapsed": true
   },
   "outputs": [],
   "source": [
    "# Compute confusion matrix\n",
    "svm_cm = confusion_matrix(y_test, svm_pred)\n",
    "np.set_printoptions(precision=2)"
   ]
  },
  {
   "cell_type": "code",
   "execution_count": 176,
   "metadata": {
    "collapsed": false
   },
   "outputs": [
    {
     "name": "stdout",
     "output_type": "stream",
     "text": [
      "Confusion matrix, without normalization\n"
     ]
    },
    {
     "data": {
      "image/png": "[encoded data removed]",
      "text/plain": [
       "<matplotlib.figure.Figure at 0x11ed4c860>"
      ]
     },
     "metadata": {},
     "output_type": "display_data"
    }
   ],
   "source": [
    "# Plot non-normalized confusion matrix\n",
    "plt.figure()\n",
    "plot_confusion_matrix(mnb_cm, classes=cls,\n",
    "                      title='Confusion matrix, without normalization')"
   ]
  },
  {
   "cell_type": "markdown",
   "metadata": {},
   "source": [
    "### Feature Importance"
   ]
  },
  {
   "cell_type": "code",
   "execution_count": 201,
   "metadata": {
    "collapsed": false
   },
   "outputs": [],
   "source": [
    "v_svm = svm_grid.best_estimator_.named_steps[\"vect\"]\n",
    "c_svm = svm_grid.best_estimator_.named_steps[\"svm\"]\n",
    "cls_svm = svm_grid.best_estimator_.named_steps[\"svm\"].classes_"
   ]
  },
  {
   "cell_type": "code",
   "execution_count": 197,
   "metadata": {
    "collapsed": false
   },
   "outputs": [
    {
     "name": "stdout",
     "output_type": "stream",
     "text": [
      "[baby shower] - \n",
      "[company event] - \n",
      "[conference] - \n",
      "[kids birthday] - \n",
      "[life celebration] - \n",
      "[other] - \n",
      "[portrait shoot] - \n",
      "[private party] - \n",
      "[wedding] - \n"
     ]
    }
   ],
   "source": [
    "print_topk(v_svm, c_svm, cls_svm, 5)"
   ]
  },
  {
   "cell_type": "code",
   "execution_count": 210,
   "metadata": {
    "collapsed": false
   },
   "outputs": [
    {
     "data": {
      "text/plain": [
       "(36, 2751)"
      ]
     },
     "execution_count": 210,
     "metadata": {},
     "output_type": "execute_result"
    }
   ],
   "source": [
    "c_svm.coef_.toarray().shape"
   ]
  },
  {
   "cell_type": "markdown",
   "metadata": {},
   "source": [
    "> For multiclass problems, the coefficients are a matrix with all 1-vs-1 classifiers. The layout of the coefficients in the multiclass case is somewhat **non-trivial** as per Sklearn documentation. \n",
    "+ [n_class-1, n_SV]\n",
    "http://scikit-learn.org/stable/modules/generated/sklearn.svm.SVC.html"
   ]
  },
  {
   "cell_type": "markdown",
   "metadata": {},
   "source": [
    "# Finalize model: Use Logistic Regression to recommend top 3 categories"
   ]
  },
  {
   "cell_type": "markdown",
   "metadata": {},
   "source": [
    "After fine tuning the parameters of each of the models it became clear that the performance of SVM is superior (F1=0.64) as compared to LR (F1=0.62) and MNB(F1=0.62). Nonetheless, the improvement of performance comes at the cost of interpretability of feature importance and a high complexity of parameters.\n",
    "> I will use Logistic Regression and use top k predictions to boost the accuracy of the model."
   ]
  },
  {
   "cell_type": "markdown",
   "metadata": {
    "collapsed": true
   },
   "source": [
    "### Update prediction list\n",
    "If correct category is within the top k categories pick coorect category, else pick first item in top k categories."
   ]
  },
  {
   "cell_type": "code",
   "execution_count": 268,
   "metadata": {
    "collapsed": true
   },
   "outputs": [],
   "source": [
    "def multiplek(y_test, topk):\n",
    "    multik = []\n",
    "    for i, score in enumerate(y_test):\n",
    "        if y_test[i] in topk[i]:\n",
    "            multik.append(y_test[i])\n",
    "        else:\n",
    "            multik.append(topk[i][0])\n",
    "    return multik"
   ]
  },
  {
   "cell_type": "markdown",
   "metadata": {},
   "source": [
    "### Predicting top 3 categories"
   ]
  },
  {
   "cell_type": "markdown",
   "metadata": {},
   "source": [
    "Top 3 categories are the top 3 categories with the highest probability."
   ]
  },
  {
   "cell_type": "code",
   "execution_count": 121,
   "metadata": {
    "collapsed": false
   },
   "outputs": [],
   "source": [
    "pred = grid.predict(X_test.ravel())  # predicts a category\n",
    "p_prob = grid.predict_proba(X_test.ravel()) # predicts the probabilities of each category"
   ]
  },
  {
   "cell_type": "code",
   "execution_count": 85,
   "metadata": {
    "collapsed": true
   },
   "outputs": [],
   "source": [
    "idxs = np.argsort(p_prob[0])[::-1] # sorts probabilities in descending order"
   ]
  },
  {
   "cell_type": "code",
   "execution_count": 88,
   "metadata": {
    "collapsed": false
   },
   "outputs": [
    {
     "name": "stdout",
     "output_type": "stream",
     "text": [
      "['kids birthday' 'private party' 'life celebration']\n"
     ]
    }
   ],
   "source": [
    "print(grid.best_estimator_.named_steps[\"lr\"].classes_[idxs][:3])"
   ]
  },
  {
   "cell_type": "markdown",
   "metadata": {},
   "source": [
    "The function below brings all the steps above so it can be applied to the X_test set."
   ]
  },
  {
   "cell_type": "code",
   "execution_count": 91,
   "metadata": {
    "collapsed": true
   },
   "outputs": [],
   "source": [
    "def topk_scored(model,step_name X_test, k):\n",
    "    results = []\n",
    "    p_prob = model.predict_proba(X_test)\n",
    "    for pred in p_prob:\n",
    "        idxs = np.argsort(pred)[::-1]\n",
    "        results.append(model.best_estimator_.named_steps[step_name].classes_[idxs][:k])\n",
    "    return results"
   ]
  },
  {
   "cell_type": "code",
   "execution_count": 93,
   "metadata": {
    "collapsed": false
   },
   "outputs": [],
   "source": [
    "pps = topk_scored(grid,\"lr\", X_test.ravel(), 3)"
   ]
  },
  {
   "cell_type": "markdown",
   "metadata": {},
   "source": [
    "The function below marks the result as positive if the correct category is within topk."
   ]
  },
  {
   "cell_type": "code",
   "execution_count": 95,
   "metadata": {
    "collapsed": false
   },
   "outputs": [],
   "source": [
    "def scoring_multiplek(y_test, topk):\n",
    "    result = 0\n",
    "    l = len(y_test)\n",
    "    for i, score in enumerate(y_test):\n",
    "        if y_test[i] in topk[i]:\n",
    "            result += 1\n",
    "    return result/l"
   ]
  },
  {
   "cell_type": "code",
   "execution_count": 120,
   "metadata": {
    "collapsed": false
   },
   "outputs": [
    {
     "data": {
      "text/plain": [
       "0.8593272171253823"
      ]
     },
     "execution_count": 120,
     "metadata": {},
     "output_type": "execute_result"
    }
   ],
   "source": [
    "adjusted_score = scoring_multiplek(y_test.values, pps)\n",
    "adjusted_score"
   ]
  },
  {
   "cell_type": "markdown",
   "metadata": {},
   "source": [
    "> By selecting the top 3 categories, the <u>accuracy score</u> using Logistic Regression goes **from %64 to 86%.**"
   ]
  },
  {
   "cell_type": "markdown",
   "metadata": {},
   "source": [
    "### Display example of predicted top 3 categories"
   ]
  },
  {
   "cell_type": "code",
   "execution_count": 99,
   "metadata": {
    "collapsed": false
   },
   "outputs": [
    {
     "data": {
      "text/plain": [
       "array([[ \"lucas immanuel's ist birthday and baby dedication - kindly capture this precious moment, as we celebrate a milestone for our son:-) \"],\n",
       "       [ 'kurt and maty engangement - engagement photos, just me and fiance. would like to take shots at various places around campus.'],\n",
       "       [ 'konica minolta anaheim demo - we will be demo-ing certain items including flying a drone outside']], \n",
       "      dtype='<U1054')"
      ]
     },
     "execution_count": 99,
     "metadata": {},
     "output_type": "execute_result"
    }
   ],
   "source": [
    "X_test[:3]"
   ]
  },
  {
   "cell_type": "code",
   "execution_count": 100,
   "metadata": {
    "collapsed": false
   },
   "outputs": [
    {
     "data": {
      "text/plain": [
       "805     kids birthday   \n",
       "1063    life celebration\n",
       "663     other           \n",
       "Name: category, dtype: object"
      ]
     },
     "execution_count": 100,
     "metadata": {},
     "output_type": "execute_result"
    }
   ],
   "source": [
    "y_test[:3]"
   ]
  },
  {
   "cell_type": "code",
   "execution_count": 101,
   "metadata": {
    "collapsed": false
   },
   "outputs": [
    {
     "data": {
      "text/plain": [
       "[array(['kids birthday', 'private party', 'life celebration'], dtype=object),\n",
       " array(['life celebration', 'private party', 'company event'], dtype=object),\n",
       " array(['company event', 'private party', 'portrait shoot'], dtype=object)]"
      ]
     },
     "execution_count": 101,
     "metadata": {},
     "output_type": "execute_result"
    }
   ],
   "source": [
    "pps[:3]"
   ]
  },
  {
   "cell_type": "code",
   "execution_count": 116,
   "metadata": {
    "collapsed": true
   },
   "outputs": [],
   "source": [
    "# Dataframe to review 3-category predictions\n",
    "cont = list(zip(X_test,y_test.values, pps))\n",
    "cols = [\"Input\", \"Input Category\", \"Predicted Categories\"]\n",
    "results_df = pd.DataFrame(cont ,columns=cols)"
   ]
  },
  {
   "cell_type": "code",
   "execution_count": 117,
   "metadata": {
    "collapsed": false
   },
   "outputs": [
    {
     "data": {
      "text/html": [
       "<div>\n",
       "<table border=\"1\" class=\"dataframe\">\n",
       "  <thead>\n",
       "    <tr style=\"text-align: right;\">\n",
       "      <th></th>\n",
       "      <th>Input</th>\n",
       "      <th>Input Category</th>\n",
       "      <th>Predicted Categories</th>\n",
       "    </tr>\n",
       "  </thead>\n",
       "  <tbody>\n",
       "    <tr>\n",
       "      <th>0</th>\n",
       "      <td>[lucas immanuel's ist birthday and baby dedication - kindly capture this precious moment, as we celebrate a milestone for our son:-) ]</td>\n",
       "      <td>kids birthday</td>\n",
       "      <td>[kids birthday, private party, life celebration]</td>\n",
       "    </tr>\n",
       "    <tr>\n",
       "      <th>1</th>\n",
       "      <td>[kurt and maty engangement - engagement photos, just me and fiance. would like to take shots at various places around campus.]</td>\n",
       "      <td>life celebration</td>\n",
       "      <td>[life celebration, private party, company event]</td>\n",
       "    </tr>\n",
       "    <tr>\n",
       "      <th>2</th>\n",
       "      <td>[konica minolta anaheim demo - we will be demo-ing certain items including flying a drone outside]</td>\n",
       "      <td>other</td>\n",
       "      <td>[company event, private party, portrait shoot]</td>\n",
       "    </tr>\n",
       "    <tr>\n",
       "      <th>3</th>\n",
       "      <td>[16ntc headshots - headshots for guests at conference. schedule: wed, mar 23 - 12:00 - 1:30, thu, mar 24 - 12:00 - 1:30, 3:00 - 5:00, fri, mar 25 - 12:00 - 1:30]</td>\n",
       "      <td>conference</td>\n",
       "      <td>[company event, conference, portrait shoot]</td>\n",
       "    </tr>\n",
       "    <tr>\n",
       "      <th>4</th>\n",
       "      <td>[the big c's cal vs. ucla game watch party - a mixture of candid shots and individual/group shots if guests would like.]</td>\n",
       "      <td>private party</td>\n",
       "      <td>[life celebration, private party, company event]</td>\n",
       "    </tr>\n",
       "  </tbody>\n",
       "</table>\n",
       "</div>"
      ],
      "text/plain": [
       "                                                                                                                                                               Input  \\\n",
       "0  [lucas immanuel's ist birthday and baby dedication - kindly capture this precious moment, as we celebrate a milestone for our son:-) ]                              \n",
       "1  [kurt and maty engangement - engagement photos, just me and fiance. would like to take shots at various places around campus.]                                      \n",
       "2  [konica minolta anaheim demo - we will be demo-ing certain items including flying a drone outside]                                                                  \n",
       "3  [16ntc headshots - headshots for guests at conference. schedule: wed, mar 23 - 12:00 - 1:30, thu, mar 24 - 12:00 - 1:30, 3:00 - 5:00, fri, mar 25 - 12:00 - 1:30]   \n",
       "4  [the big c's cal vs. ucla game watch party - a mixture of candid shots and individual/group shots if guests would like.]                                            \n",
       "\n",
       "     Input Category                              Predicted Categories  \n",
       "0  kids birthday     [kids birthday, private party, life celebration]  \n",
       "1  life celebration  [life celebration, private party, company event]  \n",
       "2  other             [company event, private party, portrait shoot]    \n",
       "3  conference        [company event, conference, portrait shoot]       \n",
       "4  private party     [life celebration, private party, company event]  "
      ]
     },
     "execution_count": 117,
     "metadata": {},
     "output_type": "execute_result"
    }
   ],
   "source": [
    "results_df.head()"
   ]
  },
  {
   "cell_type": "code",
   "execution_count": 118,
   "metadata": {
    "collapsed": false
   },
   "outputs": [
    {
     "data": {
      "text/html": [
       "<div>\n",
       "<table border=\"1\" class=\"dataframe\">\n",
       "  <thead>\n",
       "    <tr style=\"text-align: right;\">\n",
       "      <th></th>\n",
       "      <th>Input</th>\n",
       "      <th>Input Category</th>\n",
       "      <th>Predicted Categories</th>\n",
       "    </tr>\n",
       "  </thead>\n",
       "  <tbody>\n",
       "    <tr>\n",
       "      <th>322</th>\n",
       "      <td>[tori &amp; aric's wedding shower - co-ed wedding shower]</td>\n",
       "      <td>life celebration</td>\n",
       "      <td>[wedding, private party, life celebration]</td>\n",
       "    </tr>\n",
       "    <tr>\n",
       "      <th>323</th>\n",
       "      <td>[alex &amp; anya's magic 9th! - twins 9th birthday party. i want pictures of my kids engaged with other kids, when blowing candles, cake etc.]</td>\n",
       "      <td>kids birthday</td>\n",
       "      <td>[kids birthday, private party, life celebration]</td>\n",
       "    </tr>\n",
       "    <tr>\n",
       "      <th>324</th>\n",
       "      <td>[tara turns one - baby shots with parents, the cakes and just a lot of happy smiles :d]</td>\n",
       "      <td>kids birthday</td>\n",
       "      <td>[kids birthday, baby shower, wedding]</td>\n",
       "    </tr>\n",
       "    <tr>\n",
       "      <th>325</th>\n",
       "      <td>[rachana graduation/ 75th birthday - will inform additional info as the event comes closer]</td>\n",
       "      <td>private party</td>\n",
       "      <td>[kids birthday, private party, life celebration]</td>\n",
       "    </tr>\n",
       "    <tr>\n",
       "      <th>326</th>\n",
       "      <td>[prisha's 1st b'day - i would need a photographer experienced with kid's 1st b'day party. also in the beginning of the event i would need some professional shots of the baby and my family. main focus should be on the baby's professional pictures as well as the family pics.]</td>\n",
       "      <td>kids birthday</td>\n",
       "      <td>[kids birthday, portrait shoot, private party]</td>\n",
       "    </tr>\n",
       "  </tbody>\n",
       "</table>\n",
       "</div>"
      ],
      "text/plain": [
       "                                                                                                                                                                                                                                                                                  Input  \\\n",
       "322  [tori & aric's wedding shower - co-ed wedding shower]                                                                                                                                                                                                                                \n",
       "323  [alex & anya's magic 9th! - twins 9th birthday party. i want pictures of my kids engaged with other kids, when blowing candles, cake etc.]                                                                                                                                           \n",
       "324  [tara turns one - baby shots with parents, the cakes and just a lot of happy smiles :d]                                                                                                                                                                                              \n",
       "325  [rachana graduation/ 75th birthday - will inform additional info as the event comes closer]                                                                                                                                                                                          \n",
       "326  [prisha's 1st b'day - i would need a photographer experienced with kid's 1st b'day party. also in the beginning of the event i would need some professional shots of the baby and my family. main focus should be on the baby's professional pictures as well as the family pics.]   \n",
       "\n",
       "       Input Category                              Predicted Categories  \n",
       "322  life celebration  [wedding, private party, life celebration]        \n",
       "323  kids birthday     [kids birthday, private party, life celebration]  \n",
       "324  kids birthday     [kids birthday, baby shower, wedding]             \n",
       "325  private party     [kids birthday, private party, life celebration]  \n",
       "326  kids birthday     [kids birthday, portrait shoot, private party]    "
      ]
     },
     "execution_count": 118,
     "metadata": {},
     "output_type": "execute_result"
    }
   ],
   "source": [
    "results_df.tail()"
   ]
  },
  {
   "cell_type": "code",
   "execution_count": 119,
   "metadata": {
    "collapsed": false
   },
   "outputs": [
    {
     "data": {
      "text/plain": [
       "0.8593272171253823"
      ]
     },
     "execution_count": 119,
     "metadata": {},
     "output_type": "execute_result"
    }
   ],
   "source": [
    "sc = scoring_multiplek(y_test.values, pps)\n",
    "sc"
   ]
  },
  {
   "cell_type": "markdown",
   "metadata": {},
   "source": [
    "# Implementation of Top 3 category recomendations"
   ]
  },
  {
   "cell_type": "markdown",
   "metadata": {},
   "source": [
    "The implementation of Logistic Regression with top 3 categories would look like the mockup below:"
   ]
  },
  {
   "cell_type": "markdown",
   "metadata": {
    "collapsed": true
   },
   "source": [
    "<img src='result.png'>"
   ]
  },
  {
   "cell_type": "code",
   "execution_count": 111,
   "metadata": {
    "collapsed": true
   },
   "outputs": [],
   "source": [
    "x = \"new on twitter - shots of the keynote speakers, the panel members and the audiences reactions, as well as while people network. posed are fine but candid photos are preferred. the photographer will need to check in on the first floor with building security and say s/he is visiting twitter. security will send s/he to the 9th floor where they will check in with reception.\""
   ]
  },
  {
   "cell_type": "code",
   "execution_count": 168,
   "metadata": {
    "collapsed": false
   },
   "outputs": [
    {
     "name": "stdout",
     "output_type": "stream",
     "text": [
      "['company event', 'life celebration', 'conference']\n"
     ]
    }
   ],
   "source": [
    "example = grid.predict_proba(x)\n",
    "ex_idxs = np.argsort(example[0])[::-1]\n",
    "print(grid.best_estimator_.named_steps[\"lr\"].classes_[ex_idxs][:3])"
   ]
  },
  {
   "cell_type": "markdown",
   "metadata": {},
   "source": [
    "> The correct category as in the dataset is \"company event\""
   ]
  }
 ],
 "metadata": {
  "anaconda-cloud": {},
  "kernelspec": {
   "display_name": "Python [conda env:nlp]",
   "language": "python",
   "name": "conda-env-nlp-py"
  },
  "language_info": {
   "codemirror_mode": {
    "name": "ipython",
    "version": 3
   },
   "file_extension": ".py",
   "mimetype": "text/x-python",
   "name": "python",
   "nbconvert_exporter": "python",
   "pygments_lexer": "ipython3",
   "version": "3.5.2"
  }
 },
 "nbformat": 4,
 "nbformat_minor": 0
}
